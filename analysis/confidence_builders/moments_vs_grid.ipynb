{
 "cells": [
  {
   "cell_type": "markdown",
   "metadata": {},
   "source": [
    "# Here we show that the muon weighted field average gets the same results when calculated in the grid method and the moments method"
   ]
  },
  {
   "cell_type": "markdown",
   "metadata": {},
   "source": [
    "## 1) The Moments Method\n",
    "### Basic setup"
   ]
  },
  {
   "cell_type": "code",
   "execution_count": 1,
   "metadata": {},
   "outputs": [],
   "source": [
    "import sys\n",
    "import numpy as np\n",
    "import pandas as pd\n",
    "\n",
    "basedir='/Users/bono/Desktop/gm2FieldAnalysis/MuonConvolution/'\n",
    "\n",
    "#import the relevant field moments functions\n",
    "path = basedir + 'field_info'\n",
    "sys.path.insert(0,path)\n",
    "from format_field import field_team_to_standard_moments as ftts\n",
    "from field_grid import *\n",
    "\n",
    "#import the relevant synthesis tools\n",
    "path = basedir + 'synthesis'\n",
    "sys.path.insert(0,path)\n",
    "from spacial_tools import moments_method as mm\n",
    "\n",
    "path= basedir + 'tracker_info'\n",
    "sys.path.append(path)\n",
    "from beam_moments import *\n",
    "from transform_beam import *\n",
    "from beam_moments import get_normalized_distribution_moments as gndm"
   ]
  },
  {
   "cell_type": "markdown",
   "metadata": {},
   "source": [
    "### Get the field moments\n",
    "Load the field/odb pickle file for the 60 hour dataset"
   ]
  },
  {
   "cell_type": "code",
   "execution_count": 2,
   "metadata": {},
   "outputs": [],
   "source": [
    "path = basedir + 'synthesis/data/60H_field_ctag_dqm.pkl'\n",
    "df = pd.read_pickle(path)"
   ]
  },
  {
   "cell_type": "markdown",
   "metadata": {},
   "source": [
    "get the ctag weighted field moments and convert to standard representation"
   ]
  },
  {
   "cell_type": "code",
   "execution_count": 3,
   "metadata": {},
   "outputs": [],
   "source": [
    "total_ctags = df[\"ctags\"].sum()\n",
    "b = [\n",
    "    (df[\"D\"]*df[\"ctags\"]).sum()/total_ctags,\n",
    "    (df[\"NQ\"]*df[\"ctags\"]).sum()/total_ctags,\n",
    "    (df[\"SQ\"]*df[\"ctags\"]).sum()/total_ctags,\n",
    "    (df[\"NS\"]*df[\"ctags\"]).sum()/total_ctags\n",
    "    ]\n",
    "c,s = ftts(b)"
   ]
  },
  {
   "cell_type": "markdown",
   "metadata": {},
   "source": [
    "### Get the beam moments\n",
    "\n",
    "get the dataframe representing tracker 12"
   ]
  },
  {
   "cell_type": "code",
   "execution_count": 4,
   "metadata": {},
   "outputs": [
    {
     "data": {
      "text/html": [
       "<div>\n",
       "<style scoped>\n",
       "    .dataframe tbody tr th:only-of-type {\n",
       "        vertical-align: middle;\n",
       "    }\n",
       "\n",
       "    .dataframe tbody tr th {\n",
       "        vertical-align: top;\n",
       "    }\n",
       "\n",
       "    .dataframe thead th {\n",
       "        text-align: right;\n",
       "    }\n",
       "</style>\n",
       "<table border=\"1\" class=\"dataframe\">\n",
       "  <thead>\n",
       "    <tr style=\"text-align: right;\">\n",
       "      <th></th>\n",
       "      <th>index</th>\n",
       "      <th>radial</th>\n",
       "      <th>vertical</th>\n",
       "      <th>counts</th>\n",
       "      <th>Station</th>\n",
       "      <th>counts_norm</th>\n",
       "    </tr>\n",
       "  </thead>\n",
       "  <tbody>\n",
       "    <tr>\n",
       "      <th>0</th>\n",
       "      <td>2</td>\n",
       "      <td>-59.0</td>\n",
       "      <td>-59.0</td>\n",
       "      <td>0.0</td>\n",
       "      <td>station12</td>\n",
       "      <td>0.0</td>\n",
       "    </tr>\n",
       "    <tr>\n",
       "      <th>1</th>\n",
       "      <td>3</td>\n",
       "      <td>-59.0</td>\n",
       "      <td>-57.0</td>\n",
       "      <td>0.0</td>\n",
       "      <td>station12</td>\n",
       "      <td>0.0</td>\n",
       "    </tr>\n",
       "    <tr>\n",
       "      <th>2</th>\n",
       "      <td>4</td>\n",
       "      <td>-59.0</td>\n",
       "      <td>-55.0</td>\n",
       "      <td>0.0</td>\n",
       "      <td>station12</td>\n",
       "      <td>0.0</td>\n",
       "    </tr>\n",
       "    <tr>\n",
       "      <th>3</th>\n",
       "      <td>5</td>\n",
       "      <td>-59.0</td>\n",
       "      <td>-53.0</td>\n",
       "      <td>0.0</td>\n",
       "      <td>station12</td>\n",
       "      <td>0.0</td>\n",
       "    </tr>\n",
       "    <tr>\n",
       "      <th>4</th>\n",
       "      <td>6</td>\n",
       "      <td>-59.0</td>\n",
       "      <td>-51.0</td>\n",
       "      <td>0.0</td>\n",
       "      <td>station12</td>\n",
       "      <td>0.0</td>\n",
       "    </tr>\n",
       "  </tbody>\n",
       "</table>\n",
       "</div>"
      ],
      "text/plain": [
       "   index  radial  vertical  counts    Station  counts_norm\n",
       "0      2   -59.0     -59.0     0.0  station12          0.0\n",
       "1      3   -59.0     -57.0     0.0  station12          0.0\n",
       "2      4   -59.0     -55.0     0.0  station12          0.0\n",
       "3      5   -59.0     -53.0     0.0  station12          0.0\n",
       "4      6   -59.0     -51.0     0.0  station12          0.0"
      ]
     },
     "execution_count": 4,
     "metadata": {},
     "output_type": "execute_result"
    }
   ],
   "source": [
    "df_tracker = get_df_tracker()\n",
    "mask12 = (df_tracker[\"Station\"] == 'station12')\n",
    "df_12 = df_tracker[mask12].copy()\n",
    "df_12['counts_norm'] = df_12['counts']/df_12['counts'].sum()\n",
    "df_12.head()"
   ]
  },
  {
   "cell_type": "markdown",
   "metadata": {},
   "source": [
    "get the normalized moments beam moments"
   ]
  },
  {
   "cell_type": "code",
   "execution_count": 5,
   "metadata": {},
   "outputs": [],
   "source": [
    "x = df_12['radial']\n",
    "y = df_12['vertical']\n",
    "weights = df_12['counts']\n",
    "N = 3\n",
    "I_norm, J_norm = gndm(N,x,y,weights)"
   ]
  },
  {
   "cell_type": "markdown",
   "metadata": {},
   "source": [
    "### Display all the moments and their contributions"
   ]
  },
  {
   "cell_type": "code",
   "execution_count": 6,
   "metadata": {},
   "outputs": [
    {
     "name": "stdout",
     "output_type": "stream",
     "text": [
      "[ 8.41413353e+02 -9.48434999e-03 -1.18420911e+00] \n",
      "\n",
      "[0.         0.23283668 0.        ] \n",
      "\n",
      "[1.         0.15097058 0.10640059] \n",
      "\n",
      "[ 0.         -0.00012891  0.00056273] \n",
      "\n",
      "[ 8.41413353e+02 -1.43185781e-03 -1.26000550e-01] \n",
      "\n",
      "[ 0.00000000e+00 -3.00142634e-05  0.00000000e+00] \n",
      "\n"
     ]
    }
   ],
   "source": [
    "print(c,'\\n')\n",
    "print(s,'\\n')\n",
    "print(I_norm,'\\n')\n",
    "print(J_norm,'\\n')\n",
    "print(c*I_norm,'\\n')\n",
    "print(s*J_norm,'\\n')"
   ]
  },
  {
   "cell_type": "markdown",
   "metadata": {},
   "source": [
    "### and get the \"moments method\" result"
   ]
  },
  {
   "cell_type": "code",
   "execution_count": 7,
   "metadata": {},
   "outputs": [
    {
     "data": {
      "text/plain": [
       "841.2858909405439"
      ]
     },
     "execution_count": 7,
     "metadata": {},
     "output_type": "execute_result"
    }
   ],
   "source": [
    "moments_result = mm(c,s,I_norm,J_norm)\n",
    "moments_result"
   ]
  },
  {
   "cell_type": "markdown",
   "metadata": {},
   "source": [
    "## 2) The Grid Method\n",
    "### convert the bloch field moments to a field grid"
   ]
  },
  {
   "cell_type": "code",
   "execution_count": 8,
   "metadata": {},
   "outputs": [],
   "source": [
    "df_field_grid = get_field_grid(b)\n",
    "fig = plot_field(df_field_grid)"
   ]
  },
  {
   "cell_type": "markdown",
   "metadata": {},
   "source": [
    "### and having left the beam-grid in it's native form, get the grid result"
   ]
  },
  {
   "cell_type": "code",
   "execution_count": 9,
   "metadata": {},
   "outputs": [
    {
     "data": {
      "text/plain": [
       "841.285890940544"
      ]
     },
     "execution_count": 9,
     "metadata": {},
     "output_type": "execute_result"
    }
   ],
   "source": [
    "grid_result = (df_12['counts']*df_field_grid['B']).sum()/(df_12['counts'].sum())\n",
    "grid_result"
   ]
  },
  {
   "cell_type": "code",
   "execution_count": 10,
   "metadata": {},
   "outputs": [
    {
     "data": {
      "text/plain": [
       "1.1368683772161603e-13"
      ]
     },
     "execution_count": 10,
     "metadata": {},
     "output_type": "execute_result"
    }
   ],
   "source": [
    "grid_result - moments_result"
   ]
  },
  {
   "cell_type": "markdown",
   "metadata": {},
   "source": [
    "__we see that the difference in the two methods is tiny__\n",
    "\n"
   ]
  },
  {
   "cell_type": "code",
   "execution_count": null,
   "metadata": {},
   "outputs": [],
   "source": []
  }
 ],
 "metadata": {
  "kernelspec": {
   "display_name": "Python 3",
   "language": "python",
   "name": "python3"
  },
  "language_info": {
   "codemirror_mode": {
    "name": "ipython",
    "version": 3
   },
   "file_extension": ".py",
   "mimetype": "text/x-python",
   "name": "python",
   "nbconvert_exporter": "python",
   "pygments_lexer": "ipython3",
   "version": "3.7.3"
  }
 },
 "nbformat": 4,
 "nbformat_minor": 2
}
