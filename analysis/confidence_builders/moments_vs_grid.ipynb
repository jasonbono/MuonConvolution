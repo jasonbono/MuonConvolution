{
 "cells": [
  {
   "cell_type": "markdown",
   "metadata": {},
   "source": [
    "# Here we show that the muon weighted field average gets the same results when calculated in the grid method and the moments method"
   ]
  },
  {
   "cell_type": "markdown",
   "metadata": {},
   "source": [
    "## 1) The Moments Method\n",
    "### Basic setup"
   ]
  },
  {
   "cell_type": "code",
   "execution_count": 1,
   "metadata": {},
   "outputs": [],
   "source": [
    "import sys\n",
    "import numpy as np\n",
    "import pandas as pd\n",
    "\n",
    "basedir='/Users/bono/Desktop/gm2FieldAnalysis/MuonConvolution/'\n",
    "\n",
    "#import the relevant field moments functions\n",
    "path = basedir + 'field_info'\n",
    "sys.path.insert(0,path)\n",
    "from format_field import field_team_to_standard_moments as ftts\n",
    "from field_grid import *\n",
    "\n",
    "#import the relevant synthesis tools\n",
    "path = basedir + 'synthesis'\n",
    "sys.path.insert(0,path)\n",
    "from spacial_tools import moments_method as mm\n",
    "\n",
    "path= basedir + 'tracker_info'\n",
    "sys.path.append(path)\n",
    "from beam_moments import *\n",
    "from transform_beam import *\n",
    "from beam_moments import get_normalized_distribution_moments as gndm"
   ]
  },
  {
   "cell_type": "markdown",
   "metadata": {},
   "source": [
    "### Get the field moments\n",
    "Load the field/odb pickle file for the 60 hour dataset"
   ]
  },
  {
   "cell_type": "code",
   "execution_count": 2,
   "metadata": {},
   "outputs": [],
   "source": [
    "# path = basedir + 'synthesis/data/60H_field_ctag_dqm.pkl'\n",
    "\n",
    "path = basedir + 'field_info/data/run1/all_multipoles/run1_v00/'\n",
    "path = path + '60Hr_vals_uncertainties_3956-3997.pkl'\n",
    "df = pd.read_pickle(path)\n",
    "\n"
   ]
  },
  {
   "cell_type": "markdown",
   "metadata": {},
   "source": [
    "get the ctag weighted field moments and convert to standard representation"
   ]
  },
  {
   "cell_type": "code",
   "execution_count": 3,
   "metadata": {},
   "outputs": [],
   "source": [
    "total_ctags = df[\"ctags\"].sum()\n",
    "b = [\n",
    "    (df[\"D\"]*df[\"ctags\"]).sum()/total_ctags,\n",
    "    (df[\"NQ\"]*df[\"ctags\"]).sum()/total_ctags,\n",
    "    (df[\"SQ\"]*df[\"ctags\"]).sum()/total_ctags,\n",
    "    (df[\"NS\"]*df[\"ctags\"]).sum()/total_ctags,\n",
    "    (df[\"SS\"]*df[\"ctags\"]).sum()/total_ctags,\n",
    "    (df[\"NO\"]*df[\"ctags\"]).sum()/total_ctags,\n",
    "    (df[\"NO\"]*df[\"ctags\"]).sum()/total_ctags,\n",
    "    (df[\"ND\"]*df[\"ctags\"]).sum()/total_ctags,\n",
    "    (df[\"ND\"]*df[\"ctags\"]).sum()/total_ctags]\n",
    "c,s = ftts(b)\n"
   ]
  },
  {
   "cell_type": "markdown",
   "metadata": {},
   "source": [
    "### Get the beam moments\n",
    "\n",
    "get the dataframe representing tracker 12"
   ]
  },
  {
   "cell_type": "code",
   "execution_count": 4,
   "metadata": {},
   "outputs": [
    {
     "data": {
      "text/html": [
       "<div>\n",
       "<style scoped>\n",
       "    .dataframe tbody tr th:only-of-type {\n",
       "        vertical-align: middle;\n",
       "    }\n",
       "\n",
       "    .dataframe tbody tr th {\n",
       "        vertical-align: top;\n",
       "    }\n",
       "\n",
       "    .dataframe thead th {\n",
       "        text-align: right;\n",
       "    }\n",
       "</style>\n",
       "<table border=\"1\" class=\"dataframe\">\n",
       "  <thead>\n",
       "    <tr style=\"text-align: right;\">\n",
       "      <th></th>\n",
       "      <th>index</th>\n",
       "      <th>radial</th>\n",
       "      <th>vertical</th>\n",
       "      <th>counts</th>\n",
       "      <th>Station</th>\n",
       "      <th>counts_norm</th>\n",
       "    </tr>\n",
       "  </thead>\n",
       "  <tbody>\n",
       "    <tr>\n",
       "      <th>0</th>\n",
       "      <td>2</td>\n",
       "      <td>-59.0</td>\n",
       "      <td>-59.0</td>\n",
       "      <td>0.0</td>\n",
       "      <td>station12</td>\n",
       "      <td>0.0</td>\n",
       "    </tr>\n",
       "    <tr>\n",
       "      <th>1</th>\n",
       "      <td>3</td>\n",
       "      <td>-59.0</td>\n",
       "      <td>-57.0</td>\n",
       "      <td>0.0</td>\n",
       "      <td>station12</td>\n",
       "      <td>0.0</td>\n",
       "    </tr>\n",
       "    <tr>\n",
       "      <th>2</th>\n",
       "      <td>4</td>\n",
       "      <td>-59.0</td>\n",
       "      <td>-55.0</td>\n",
       "      <td>0.0</td>\n",
       "      <td>station12</td>\n",
       "      <td>0.0</td>\n",
       "    </tr>\n",
       "    <tr>\n",
       "      <th>3</th>\n",
       "      <td>5</td>\n",
       "      <td>-59.0</td>\n",
       "      <td>-53.0</td>\n",
       "      <td>0.0</td>\n",
       "      <td>station12</td>\n",
       "      <td>0.0</td>\n",
       "    </tr>\n",
       "    <tr>\n",
       "      <th>4</th>\n",
       "      <td>6</td>\n",
       "      <td>-59.0</td>\n",
       "      <td>-51.0</td>\n",
       "      <td>0.0</td>\n",
       "      <td>station12</td>\n",
       "      <td>0.0</td>\n",
       "    </tr>\n",
       "  </tbody>\n",
       "</table>\n",
       "</div>"
      ],
      "text/plain": [
       "   index  radial  vertical  counts    Station  counts_norm\n",
       "0      2   -59.0     -59.0     0.0  station12          0.0\n",
       "1      3   -59.0     -57.0     0.0  station12          0.0\n",
       "2      4   -59.0     -55.0     0.0  station12          0.0\n",
       "3      5   -59.0     -53.0     0.0  station12          0.0\n",
       "4      6   -59.0     -51.0     0.0  station12          0.0"
      ]
     },
     "execution_count": 4,
     "metadata": {},
     "output_type": "execute_result"
    }
   ],
   "source": [
    "df_tracker = get_df_tracker()\n",
    "mask12 = (df_tracker[\"Station\"] == 'station12')\n",
    "df_12 = df_tracker[mask12].copy()\n",
    "df_12['counts_norm'] = df_12['counts']/df_12['counts'].sum()\n",
    "df_12.head()"
   ]
  },
  {
   "cell_type": "markdown",
   "metadata": {},
   "source": [
    "get the normalized moments beam moments"
   ]
  },
  {
   "cell_type": "code",
   "execution_count": 5,
   "metadata": {},
   "outputs": [],
   "source": [
    "x = df_12['radial']\n",
    "y = df_12['vertical']\n",
    "weights = df_12['counts']\n",
    "N = 5\n",
    "I_norm, J_norm = gndm(N,x,y,weights)"
   ]
  },
  {
   "cell_type": "markdown",
   "metadata": {},
   "source": [
    "### Display all the moments and their contributions"
   ]
  },
  {
   "cell_type": "code",
   "execution_count": 6,
   "metadata": {},
   "outputs": [
    {
     "name": "stdout",
     "output_type": "stream",
     "text": [
      "[ 8.37764260e+02 -1.00577080e-01 -1.20467157e+00  8.03280584e-03\n",
      "  6.91568658e-02] \n",
      "\n",
      "[0.         0.25299367 0.33800526 0.00803281 0.06915687] \n",
      "\n",
      "[1.         0.15097058 0.10640059 0.00660348 0.00450191] \n",
      "\n",
      "[ 0.00000000e+00 -1.28906937e-04  5.62725260e-04  4.27693398e-05\n",
      " -8.03948742e-05] \n",
      "\n",
      "[ 8.37764260e+02 -1.51841800e-02 -1.28177768e-01  5.30444858e-05\n",
      "  3.11337965e-04] \n",
      "\n",
      "[ 0.00000000e+00 -3.26126391e-05  1.90204098e-04  3.43557802e-07\n",
      " -5.55985753e-06] \n",
      "\n"
     ]
    }
   ],
   "source": [
    "print(c,'\\n')\n",
    "print(s,'\\n')\n",
    "print(I_norm,'\\n')\n",
    "print(J_norm,'\\n')\n",
    "print(c*I_norm,'\\n')\n",
    "print(s*J_norm,'\\n')"
   ]
  },
  {
   "cell_type": "markdown",
   "metadata": {},
   "source": [
    "### and get the \"moments method\" result"
   ]
  },
  {
   "cell_type": "code",
   "execution_count": 7,
   "metadata": {},
   "outputs": [
    {
     "data": {
      "text/plain": [
       "837.6214149088376"
      ]
     },
     "execution_count": 7,
     "metadata": {},
     "output_type": "execute_result"
    }
   ],
   "source": [
    "moments_result = mm(c,s,I_norm,J_norm)\n",
    "moments_result"
   ]
  },
  {
   "cell_type": "markdown",
   "metadata": {},
   "source": [
    "## 2) The Grid Method\n",
    "### convert the bloch field moments to a field grid"
   ]
  },
  {
   "cell_type": "code",
   "execution_count": 8,
   "metadata": {},
   "outputs": [
    {
     "data": {
      "image/png": "[encoded data removed]",
      "text/plain": [
       "<Figure size 720x576 with 2 Axes>"
      ]
     },
     "execution_count": 8,
     "metadata": {},
     "output_type": "execute_result"
    }
   ],
   "source": [
    "df_field_grid = get_field_grid(b)\n",
    "fig = plot_field(df_field_grid)\n",
    "fig"
   ]
  },
  {
   "cell_type": "markdown",
   "metadata": {},
   "source": [
    "### and having left the beam-grid in it's native form, get the grid result"
   ]
  },
  {
   "cell_type": "code",
   "execution_count": 9,
   "metadata": {},
   "outputs": [
    {
     "data": {
      "text/plain": [
       "837.6214149088376"
      ]
     },
     "execution_count": 9,
     "metadata": {},
     "output_type": "execute_result"
    }
   ],
   "source": [
    "grid_result = (df_12['counts']*df_field_grid['B']).sum()/(df_12['counts'].sum())\n",
    "grid_result"
   ]
  },
  {
   "cell_type": "code",
   "execution_count": 10,
   "metadata": {},
   "outputs": [
    {
     "data": {
      "text/plain": [
       "0.0"
      ]
     },
     "execution_count": 10,
     "metadata": {},
     "output_type": "execute_result"
    }
   ],
   "source": [
    "grid_result - moments_result"
   ]
  },
  {
   "cell_type": "markdown",
   "metadata": {},
   "source": [
    "__we see that the difference in the two methods is tiny__\n",
    "\n"
   ]
  },
  {
   "cell_type": "markdown",
   "metadata": {},
   "source": [
    "# 3) do the same thing for the error "
   ]
  },
  {
   "cell_type": "markdown",
   "metadata": {},
   "source": [
    "### first compute the varience of each moment\n",
    "### do NOT treat this in the usual way were you square the weighting factors that were used in the calculation of the central values"
   ]
  },
  {
   "cell_type": "code",
   "execution_count": 21,
   "metadata": {},
   "outputs": [
    {
     "data": {
      "text/plain": [
       "[0.07566100058582945,\n",
       " 0.061788375543755415,\n",
       " 0.06020361353694255,\n",
       " 0.06281243995097079,\n",
       " 0.05256159716032307,\n",
       " 0.04394487400195354,\n",
       " 0.04394487400195354,\n",
       " 0.04393702866899798,\n",
       " 0.04393702866899798]"
      ]
     },
     "execution_count": 21,
     "metadata": {},
     "output_type": "execute_result"
    }
   ],
   "source": [
    "\n",
    "total_ctags = (df[\"ctags\"].sum())\n",
    "norm = total_ctags\n",
    "\n",
    "# to get eb, first get the varience \n",
    "df[\"varD\"] = df[\"eD\"]**2\n",
    "df[\"varNQ\"] = df[\"eNQ\"]**2\n",
    "df[\"varSQ\"] = df[\"eSQ\"]**2\n",
    "df[\"varNS\"] = df[\"eNS\"]**2\n",
    "df[\"varSS\"] = df[\"eSS\"]**2\n",
    "df[\"varNO\"] = df[\"eNO\"]**2\n",
    "df[\"varSO\"] = df[\"eSO\"]**2\n",
    "df[\"varND\"] = df[\"eND\"]**2\n",
    "df[\"varSD\"] = df[\"eSD\"]**2\n",
    "var_b = [\n",
    "    (df[\"varD\"]*df[\"ctags\"]).sum()/norm,\n",
    "    (df[\"varNQ\"]*df[\"ctags\"]).sum()/norm,\n",
    "    (df[\"varSQ\"]*df[\"ctags\"]).sum()/norm,\n",
    "    (df[\"varNS\"]*df[\"ctags\"]).sum()/norm,\n",
    "    (df[\"varSS\"]*df[\"ctags\"]).sum()/norm,\n",
    "    (df[\"varNO\"]*df[\"ctags\"]).sum()/norm,\n",
    "    (df[\"varNO\"]*df[\"ctags\"]).sum()/norm,\n",
    "    (df[\"varND\"]*df[\"ctags\"]).sum()/norm,\n",
    "    (df[\"varND\"]*df[\"ctags\"]).sum()/norm] \n",
    "\n",
    "var_c,var_s = ftts(var_b)\n",
    "eb = [np.sqrt(v) for v in var_b]\n",
    "eb"
   ]
  },
  {
   "cell_type": "markdown",
   "metadata": {},
   "source": [
    "### moments method"
   ]
  },
  {
   "cell_type": "code",
   "execution_count": 23,
   "metadata": {},
   "outputs": [
    {
     "data": {
      "text/plain": [
       "0.08211707549665694"
      ]
     },
     "execution_count": 23,
     "metadata": {},
     "output_type": "execute_result"
    }
   ],
   "source": [
    "#can choose to compute in a variety of ways\n",
    "N1 = (I_norm**1)\n",
    "N2 = (J_norm**1)\n",
    "\n",
    "var_moments_result = mm(var_c,var_s,N1,N2)\n",
    "error_from_var_mm = np.sqrt(var_moments_result)\n",
    "error_from_var_mm"
   ]
  },
  {
   "cell_type": "code",
   "execution_count": 40,
   "metadata": {},
   "outputs": [
    {
     "name": "stdout",
     "output_type": "stream",
     "text": [
      "[0.075661   0.06178838 0.06281244 0.04394487 0.04393703]\n",
      "--\n",
      "[1.         0.15097058 0.10640059 0.00660348 0.00450191]\n",
      "--\n",
      "[5.72458701e-03 5.76375982e-04 4.19793174e-04 1.27523265e-05\n",
      " 8.69076779e-06]\n",
      "--\n",
      "--\n",
      "[0.075661   0.06178838 0.06281244 0.04394487 0.04393703]\n",
      "[0.075661   0.00932823 0.00668328 0.00029019 0.0001978 ]\n"
     ]
    }
   ],
   "source": [
    "print(np.sqrt(var_c))\n",
    "print('--')\n",
    "print(N1)\n",
    "print('--')\n",
    "print(var_c*N1)\n",
    "print('--')\n",
    "print('--')\n",
    "print(np.sqrt(var_c))\n",
    "print(np.sqrt(var_c)*N1)"
   ]
  },
  {
   "cell_type": "code",
   "execution_count": 41,
   "metadata": {},
   "outputs": [
    {
     "name": "stdout",
     "output_type": "stream",
     "text": [
      "[0.         0.06020361 0.0525616  0.04394487 0.04393703]\n",
      "--\n",
      "[ 0.00000000e+00 -1.28906937e-04  5.62725260e-04  4.27693398e-05\n",
      " -8.03948742e-05]\n",
      "--\n",
      "[ 0.00000000e+00 -4.67219979e-07  1.55465317e-06  8.25940939e-08\n",
      " -1.55199289e-07]\n",
      "--\n",
      "--\n",
      "[0.         0.06020361 0.0525616  0.04394487 0.04393703]\n",
      "[ 0.00000000e+00 -7.76066339e-06  2.95777384e-05  1.87949325e-06\n",
      " -3.53231189e-06]\n"
     ]
    }
   ],
   "source": [
    "print(np.sqrt(var_s))\n",
    "print('--')\n",
    "print(N2)\n",
    "print('--')\n",
    "print(var_s*N2)\n",
    "print('--')\n",
    "print('--')\n",
    "print(np.sqrt(var_s))\n",
    "print(np.sqrt(var_s)*N2)"
   ]
  },
  {
   "cell_type": "markdown",
   "metadata": {},
   "source": [
    "### Grid error method 0\n",
    "just do the exact same thing as in the grid method"
   ]
  },
  {
   "cell_type": "code",
   "execution_count": 33,
   "metadata": {},
   "outputs": [
    {
     "data": {
      "text/plain": [
       "0.08211707549665694"
      ]
     },
     "execution_count": 33,
     "metadata": {},
     "output_type": "execute_result"
    }
   ],
   "source": [
    "# get the grid that represents the varience at each point\n",
    "var_df_field_grid = get_field_grid(var_b)\n",
    "\n",
    "\n",
    "#get the total counts\n",
    "total_counts = df_12['counts'].sum()\n",
    "\n",
    "var_grid_result = ((df_12['counts'])*var_df_field_grid['B']).sum()/(total_counts)\n",
    "error_from_var_gr = np.sqrt(var_grid_result)\n",
    "error_from_var_gr"
   ]
  },
  {
   "cell_type": "code",
   "execution_count": 34,
   "metadata": {},
   "outputs": [
    {
     "data": {
      "text/plain": [
       "0.0"
      ]
     },
     "execution_count": 34,
     "metadata": {},
     "output_type": "execute_result"
    }
   ],
   "source": [
    "error_from_var_mm - error_from_var_gr"
   ]
  },
  {
   "cell_type": "code",
   "execution_count": 37,
   "metadata": {},
   "outputs": [
    {
     "data": {
      "image/png": "[encoded data removed]",
      "text/plain": [
       "<Figure size 720x576 with 2 Axes>"
      ]
     },
     "execution_count": 37,
     "metadata": {},
     "output_type": "execute_result"
    }
   ],
   "source": [
    "# mask  = var_df_field_grid['x']**2 + var_df_field_grid['y']**2 < 45**2\n",
    "# var_df_field_grid = var_df_field_grid[mask]\n",
    "fig = plot_field(var_df_field_grid)\n",
    "fig"
   ]
  },
  {
   "cell_type": "markdown",
   "metadata": {},
   "source": [
    "### Grid error method 1"
   ]
  },
  {
   "cell_type": "code",
   "execution_count": 26,
   "metadata": {},
   "outputs": [
    {
     "data": {
      "text/plain": [
       "0.003873778054651493"
      ]
     },
     "execution_count": 26,
     "metadata": {},
     "output_type": "execute_result"
    }
   ],
   "source": [
    "# get the grid that represents the varience at each point\n",
    "var_df_field_grid = get_field_grid(eb)\n",
    "var_df_field_grid['B'] = var_df_field_grid['B']**2\n",
    "\n",
    "#square the beam weighting factor at each point in the grid\n",
    "df_12['counts-sq'] = df_12['counts']**2\n",
    "\n",
    "#get the total counts\n",
    "total_counts = df_12['counts'].sum()\n",
    "\n",
    "var_grid_result = ((df_12['counts-sq'])*var_df_field_grid['B']).sum()/(total_counts**2)\n",
    "error_from_var_gr = np.sqrt(var_grid_result)\n",
    "error_from_var_gr"
   ]
  },
  {
   "cell_type": "code",
   "execution_count": 27,
   "metadata": {},
   "outputs": [
    {
     "data": {
      "text/plain": [
       "0.07824329744200545"
      ]
     },
     "execution_count": 27,
     "metadata": {},
     "output_type": "execute_result"
    }
   ],
   "source": [
    "error_from_var_mm - error_from_var_gr"
   ]
  },
  {
   "cell_type": "markdown",
   "metadata": {},
   "source": [
    "### Grid error method 2"
   ]
  },
  {
   "cell_type": "code",
   "execution_count": 31,
   "metadata": {},
   "outputs": [
    {
     "data": {
      "text/plain": [
       "0.10500420118749791"
      ]
     },
     "execution_count": 31,
     "metadata": {},
     "output_type": "execute_result"
    }
   ],
   "source": [
    "# get the grid that represents the varience at each point\n",
    "var_df_field_grid = get_field_grid(eb)\n",
    "var_df_field_grid['B'] = var_df_field_grid['B']**2\n",
    "\n",
    "#get the total counts\n",
    "total_counts = df_12['counts'].sum()\n",
    "\n",
    "var_grid_result = ((df_12['counts'])*var_df_field_grid['B']).sum()/(total_counts)\n",
    "error_from_var_gr = np.sqrt(var_grid_result)\n",
    "error_from_var_gr"
   ]
  },
  {
   "cell_type": "code",
   "execution_count": 32,
   "metadata": {},
   "outputs": [
    {
     "data": {
      "text/plain": [
       "-0.022887125690840976"
      ]
     },
     "execution_count": 32,
     "metadata": {},
     "output_type": "execute_result"
    }
   ],
   "source": [
    "error_from_var_mm - error_from_var_gr"
   ]
  },
  {
   "cell_type": "markdown",
   "metadata": {},
   "source": [
    "### Grid error method 3"
   ]
  },
  {
   "cell_type": "code",
   "execution_count": 29,
   "metadata": {},
   "outputs": [
    {
     "data": {
      "text/plain": [
       "0.0030963099064514766"
      ]
     },
     "execution_count": 29,
     "metadata": {},
     "output_type": "execute_result"
    }
   ],
   "source": [
    "# get the grid that represents the varience at each point\n",
    "var_df_field_grid = get_field_grid(var_b)\n",
    "\n",
    "#square the beam weighting factor at each point in the grid\n",
    "df_12['counts-sq'] = df_12['counts']**2\n",
    "\n",
    "#get the total counts\n",
    "total_counts = df_12['counts'].sum()\n",
    "\n",
    "var_grid_result = ((df_12['counts-sq'])*var_df_field_grid['B']).sum()/(total_counts**2)\n",
    "error_from_var_gr = np.sqrt(var_grid_result)\n",
    "error_from_var_gr"
   ]
  },
  {
   "cell_type": "code",
   "execution_count": 30,
   "metadata": {},
   "outputs": [
    {
     "data": {
      "text/plain": [
       "0.07902076559020546"
      ]
     },
     "execution_count": 30,
     "metadata": {},
     "output_type": "execute_result"
    }
   ],
   "source": [
    "error_from_var_mm - error_from_var_gr"
   ]
  },
  {
   "cell_type": "code",
   "execution_count": null,
   "metadata": {},
   "outputs": [],
   "source": []
  },
  {
   "cell_type": "code",
   "execution_count": 18,
   "metadata": {},
   "outputs": [
    {
     "name": "stdout",
     "output_type": "stream",
     "text": [
      "--field--\n",
      "normal: \n",
      "\n",
      "[0.075661   0.06178838 0.06281244 0.04394487 0.04393703]\n",
      "skew: \n",
      "\n",
      "[0.         0.00362448 0.00276272 0.00193115 0.00193046]\n"
     ]
    }
   ],
   "source": [
    "print('--field--')\n",
    "print('normal: \\n')\n",
    "print(np.sqrt(var_c))\n",
    "print('skew: \\n')\n",
    "print(var_s)"
   ]
  },
  {
   "cell_type": "code",
   "execution_count": 19,
   "metadata": {},
   "outputs": [
    {
     "name": "stdout",
     "output_type": "stream",
     "text": [
      "--beam--\n",
      "normal: \n",
      "\n",
      "[1.         0.38854933 0.32619104 0.08126181 0.06709627]\n",
      "skew: \n",
      "\n",
      "[ 0.00000000e+00 -1.28906937e-04  5.62725260e-04  4.27693398e-05\n",
      " -8.03948742e-05]\n"
     ]
    }
   ],
   "source": [
    "print('--beam--')\n",
    "print('normal: \\n')\n",
    "print(np.sqrt(I_norm))\n",
    "print('skew: \\n')\n",
    "print(J_norm)"
   ]
  },
  {
   "cell_type": "code",
   "execution_count": 20,
   "metadata": {},
   "outputs": [
    {
     "name": "stdout",
     "output_type": "stream",
     "text": [
      "--total--\n",
      "normal: \n",
      "\n",
      "[0.075661   0.02400783 0.02048885 0.00357104 0.00294801]\n",
      "skew: \n",
      "\n",
      "[ 0.00000000e+00 -4.67219979e-07  1.55465317e-06  8.25940939e-08\n",
      " -1.55199289e-07]\n"
     ]
    }
   ],
   "source": [
    "print('--total--')\n",
    "print('normal: \\n')\n",
    "print(np.sqrt(var_c*I_norm))\n",
    "print('skew: \\n')\n",
    "print(var_s*J_norm)"
   ]
  },
  {
   "cell_type": "code",
   "execution_count": null,
   "metadata": {},
   "outputs": [],
   "source": []
  },
  {
   "cell_type": "code",
   "execution_count": null,
   "metadata": {},
   "outputs": [],
   "source": []
  },
  {
   "cell_type": "code",
   "execution_count": 21,
   "metadata": {},
   "outputs": [],
   "source": [
    "#dispaly the varience grid that was used\n"
   ]
  },
  {
   "cell_type": "markdown",
   "metadata": {},
   "source": [
    "# an alternative, and i think wrong, approach"
   ]
  },
  {
   "cell_type": "code",
   "execution_count": 22,
   "metadata": {},
   "outputs": [],
   "source": [
    "#now get the total error on each moment\n",
    "eb = [np.sqrt(v) for v in var_b]\n",
    "ec,es = ftts(eb)"
   ]
  },
  {
   "cell_type": "code",
   "execution_count": 23,
   "metadata": {},
   "outputs": [
    {
     "data": {
      "text/plain": [
       "0.0921806621725356"
      ]
     },
     "execution_count": 23,
     "metadata": {},
     "output_type": "execute_result"
    }
   ],
   "source": [
    "#get the field-originating error in the moments method\n",
    "e_moments_result = mm(ec,es,I_norm,J_norm)\n",
    "e_moments_result"
   ]
  },
  {
   "cell_type": "code",
   "execution_count": 24,
   "metadata": {},
   "outputs": [
    {
     "data": {
      "text/plain": [
       "0.09218066217253558"
      ]
     },
     "execution_count": 24,
     "metadata": {},
     "output_type": "execute_result"
    }
   ],
   "source": [
    "#get the field-originating error in the grid method\n",
    "e_df_field_grid = get_field_grid(eb)\n",
    "e_grid_result = (df_12['counts']*e_df_field_grid['B']).sum()/(df_12['counts'].sum())\n",
    "e_grid_result"
   ]
  },
  {
   "cell_type": "code",
   "execution_count": 25,
   "metadata": {},
   "outputs": [
    {
     "data": {
      "text/plain": [
       "-1.3877787807814457e-17"
      ]
     },
     "execution_count": 25,
     "metadata": {},
     "output_type": "execute_result"
    }
   ],
   "source": [
    "e_grid_result - e_moments_result"
   ]
  },
  {
   "cell_type": "markdown",
   "metadata": {},
   "source": [
    "once again, we get the same result from both methods. they are the same"
   ]
  },
  {
   "cell_type": "markdown",
   "metadata": {},
   "source": []
  },
  {
   "cell_type": "code",
   "execution_count": null,
   "metadata": {},
   "outputs": [],
   "source": []
  },
  {
   "cell_type": "code",
   "execution_count": null,
   "metadata": {},
   "outputs": [],
   "source": []
  }
 ],
 "metadata": {
  "kernelspec": {
   "display_name": "Python 3",
   "language": "python",
   "name": "python3"
  },
  "language_info": {
   "codemirror_mode": {
    "name": "ipython",
    "version": 3
   },
   "file_extension": ".py",
   "mimetype": "text/x-python",
   "name": "python",
   "nbconvert_exporter": "python",
   "pygments_lexer": "ipython3",
   "version": "3.7.3"
  }
 },
 "nbformat": 4,
 "nbformat_minor": 2
}
