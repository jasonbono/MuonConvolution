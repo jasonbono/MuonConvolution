{
 "cells": [
  {
   "cell_type": "markdown",
   "metadata": {},
   "source": [
    "# Get field moments df"
   ]
  },
  {
   "cell_type": "code",
   "execution_count": 6,
   "metadata": {},
   "outputs": [],
   "source": [
    "import sys\n",
    "import numpy as np\n",
    "import pandas as pd\n",
    "import matplotlib.pyplot as plt"
   ]
  },
  {
   "cell_type": "code",
   "execution_count": 7,
   "metadata": {},
   "outputs": [],
   "source": [
    "path='/Users/bono/Desktop/gm2FieldAnalysis/MuonConvolution/field_info/'\n",
    "sys.path.append(path)\n",
    "from field_grid import *\n",
    "from format_field import get_field_df"
   ]
  },
  {
   "cell_type": "code",
   "execution_count": 8,
   "metadata": {},
   "outputs": [],
   "source": [
    "#Point to the data and get the df\n",
    "path='/Users/bono/Desktop/gm2FieldAnalysis/MuonConvolution/field_info/data/'\n",
    "file = \"60Hr_Average_Comparison_all_3956_3997_norescut.txt\"\n",
    "# file = \"60Hr_Average_Comparison_all_3956_3997_norescut_NoAvg.txt\"\n",
    "file = path + file\n",
    "df_field = get_field_df(file)"
   ]
  },
  {
   "cell_type": "markdown",
   "metadata": {},
   "source": [
    "# Get the CTAGs"
   ]
  },
  {
   "cell_type": "code",
   "execution_count": 9,
   "metadata": {},
   "outputs": [],
   "source": [
    "path='/Users/bono/Desktop/gm2FieldAnalysis/MuonConvolution/muon_info'\n",
    "sys.path.append(path)\n",
    "from simple_ctags import get_ctags"
   ]
  },
  {
   "cell_type": "code",
   "execution_count": 10,
   "metadata": {},
   "outputs": [
    {
     "ename": "OperationalError",
     "evalue": "server closed the connection unexpectedly\n\tThis probably means the server terminated abnormally\n\tbefore or while processing the request.\n",
     "output_type": "error",
     "traceback": [
      "\u001b[0;31m---------------------------------------------------------------------------\u001b[0m",
      "\u001b[0;31mOperationalError\u001b[0m                          Traceback (most recent call last)",
      "\u001b[0;32m<ipython-input-10-a84339dfd215>\u001b[0m in \u001b[0;36m<module>\u001b[0;34m\u001b[0m\n\u001b[0;32m----> 1\u001b[0;31m \u001b[0mdata\u001b[0m \u001b[0;34m=\u001b[0m \u001b[0mget_ctags\u001b[0m\u001b[0;34m(\u001b[0m\u001b[0;34m\"2018-04-22 00:00:00\"\u001b[0m\u001b[0;34m,\u001b[0m \u001b[0;34m\"2018-04-25 00:00:00\"\u001b[0m\u001b[0;34m,\u001b[0m\u001b[0;34m'localhost'\u001b[0m\u001b[0;34m)\u001b[0m\u001b[0;34m\u001b[0m\u001b[0;34m\u001b[0m\u001b[0m\n\u001b[0m\u001b[1;32m      2\u001b[0m \u001b[0mdf_muons\u001b[0m \u001b[0;34m=\u001b[0m \u001b[0mpd\u001b[0m\u001b[0;34m.\u001b[0m\u001b[0mDataFrame\u001b[0m\u001b[0;34m.\u001b[0m\u001b[0mfrom_dict\u001b[0m\u001b[0;34m(\u001b[0m\u001b[0mdata\u001b[0m\u001b[0;34m,\u001b[0m \u001b[0morient\u001b[0m\u001b[0;34m=\u001b[0m\u001b[0;34m\"index\"\u001b[0m\u001b[0;34m,\u001b[0m\u001b[0mcolumns\u001b[0m\u001b[0;34m=\u001b[0m\u001b[0;34m[\u001b[0m\u001b[0;34m'ctags'\u001b[0m\u001b[0;34m]\u001b[0m\u001b[0;34m)\u001b[0m\u001b[0;34m\u001b[0m\u001b[0;34m\u001b[0m\u001b[0m\n\u001b[1;32m      3\u001b[0m \u001b[0mdf_muons\u001b[0m\u001b[0;34m.\u001b[0m\u001b[0mindex\u001b[0m\u001b[0;34m.\u001b[0m\u001b[0mname\u001b[0m \u001b[0;34m=\u001b[0m \u001b[0;34m'DateTime'\u001b[0m\u001b[0;34m\u001b[0m\u001b[0;34m\u001b[0m\u001b[0m\n\u001b[1;32m      4\u001b[0m \u001b[0mdf_muons\u001b[0m\u001b[0;34m.\u001b[0m\u001b[0mindex\u001b[0m \u001b[0;34m=\u001b[0m \u001b[0mpd\u001b[0m\u001b[0;34m.\u001b[0m\u001b[0mto_datetime\u001b[0m\u001b[0;34m(\u001b[0m\u001b[0mdf_muons\u001b[0m\u001b[0;34m.\u001b[0m\u001b[0mindex\u001b[0m\u001b[0;34m)\u001b[0m\u001b[0;34m\u001b[0m\u001b[0;34m\u001b[0m\u001b[0m\n\u001b[1;32m      5\u001b[0m \u001b[0mdf_muons\u001b[0m \u001b[0;34m=\u001b[0m \u001b[0mdf_muons\u001b[0m\u001b[0;34m.\u001b[0m\u001b[0msort_values\u001b[0m\u001b[0;34m(\u001b[0m\u001b[0mby\u001b[0m\u001b[0;34m=\u001b[0m\u001b[0;34m[\u001b[0m\u001b[0;34m'DateTime'\u001b[0m\u001b[0;34m]\u001b[0m\u001b[0;34m)\u001b[0m\u001b[0;34m\u001b[0m\u001b[0;34m\u001b[0m\u001b[0m\n",
      "\u001b[0;32m~/Desktop/gm2FieldAnalysis/MuonConvolution/muon_info/simple_ctags.py\u001b[0m in \u001b[0;36mget_ctags\u001b[0;34m(start_time, end_time, db)\u001b[0m\n\u001b[1;32m     23\u001b[0m         \u001b[0mprint\u001b[0m \u001b[0;34m(\u001b[0m\u001b[0;34m\"None supported DB specified - run with --db=localhost or --db=g2db-priv\"\u001b[0m\u001b[0;34m)\u001b[0m\u001b[0;34m\u001b[0m\u001b[0;34m\u001b[0m\u001b[0m\n\u001b[1;32m     24\u001b[0m         \u001b[0msys\u001b[0m\u001b[0;34m.\u001b[0m\u001b[0mexit\u001b[0m\u001b[0;34m(\u001b[0m\u001b[0;34m-\u001b[0m\u001b[0;36m1\u001b[0m\u001b[0;34m)\u001b[0m\u001b[0;34m\u001b[0m\u001b[0;34m\u001b[0m\u001b[0m\n\u001b[0;32m---> 25\u001b[0;31m     \u001b[0mconn\u001b[0m \u001b[0;34m=\u001b[0m \u001b[0mpsycopg2\u001b[0m\u001b[0;34m.\u001b[0m\u001b[0mconnect\u001b[0m\u001b[0;34m(\u001b[0m\u001b[0mdsn\u001b[0m\u001b[0;34m)\u001b[0m\u001b[0;34m\u001b[0m\u001b[0;34m\u001b[0m\u001b[0m\n\u001b[0m\u001b[1;32m     26\u001b[0m     \u001b[0mcurr\u001b[0m \u001b[0;34m=\u001b[0m \u001b[0mconn\u001b[0m\u001b[0;34m.\u001b[0m\u001b[0mcursor\u001b[0m\u001b[0;34m(\u001b[0m\u001b[0;34m)\u001b[0m\u001b[0;34m\u001b[0m\u001b[0;34m\u001b[0m\u001b[0m\n\u001b[1;32m     27\u001b[0m \u001b[0;34m\u001b[0m\u001b[0m\n",
      "\u001b[0;32m/usr/local/lib/python3.7/site-packages/psycopg2/__init__.py\u001b[0m in \u001b[0;36mconnect\u001b[0;34m(dsn, connection_factory, cursor_factory, **kwargs)\u001b[0m\n\u001b[1;32m    124\u001b[0m \u001b[0;34m\u001b[0m\u001b[0m\n\u001b[1;32m    125\u001b[0m     \u001b[0mdsn\u001b[0m \u001b[0;34m=\u001b[0m \u001b[0m_ext\u001b[0m\u001b[0;34m.\u001b[0m\u001b[0mmake_dsn\u001b[0m\u001b[0;34m(\u001b[0m\u001b[0mdsn\u001b[0m\u001b[0;34m,\u001b[0m \u001b[0;34m**\u001b[0m\u001b[0mkwargs\u001b[0m\u001b[0;34m)\u001b[0m\u001b[0;34m\u001b[0m\u001b[0;34m\u001b[0m\u001b[0m\n\u001b[0;32m--> 126\u001b[0;31m     \u001b[0mconn\u001b[0m \u001b[0;34m=\u001b[0m \u001b[0m_connect\u001b[0m\u001b[0;34m(\u001b[0m\u001b[0mdsn\u001b[0m\u001b[0;34m,\u001b[0m \u001b[0mconnection_factory\u001b[0m\u001b[0;34m=\u001b[0m\u001b[0mconnection_factory\u001b[0m\u001b[0;34m,\u001b[0m \u001b[0;34m**\u001b[0m\u001b[0mkwasync\u001b[0m\u001b[0;34m)\u001b[0m\u001b[0;34m\u001b[0m\u001b[0;34m\u001b[0m\u001b[0m\n\u001b[0m\u001b[1;32m    127\u001b[0m     \u001b[0;32mif\u001b[0m \u001b[0mcursor_factory\u001b[0m \u001b[0;32mis\u001b[0m \u001b[0;32mnot\u001b[0m \u001b[0;32mNone\u001b[0m\u001b[0;34m:\u001b[0m\u001b[0;34m\u001b[0m\u001b[0;34m\u001b[0m\u001b[0m\n\u001b[1;32m    128\u001b[0m         \u001b[0mconn\u001b[0m\u001b[0;34m.\u001b[0m\u001b[0mcursor_factory\u001b[0m \u001b[0;34m=\u001b[0m \u001b[0mcursor_factory\u001b[0m\u001b[0;34m\u001b[0m\u001b[0;34m\u001b[0m\u001b[0m\n",
      "\u001b[0;31mOperationalError\u001b[0m: server closed the connection unexpectedly\n\tThis probably means the server terminated abnormally\n\tbefore or while processing the request.\n"
     ]
    }
   ],
   "source": [
    "data = get_ctags(\"2018-04-22 00:00:00\", \"2018-04-25 00:00:00\",'localhost')\n",
    "df_muons = pd.DataFrame.from_dict(data, orient=\"index\",columns=['ctags'])\n",
    "df_muons.index.name = 'DateTime'\n",
    "df_muons.index = pd.to_datetime(df_muons.index)\n",
    "df_muons = df_muons.sort_values(by=['DateTime'])"
   ]
  },
  {
   "cell_type": "markdown",
   "metadata": {},
   "source": [
    "# Combine Field Moments and CTAGs Data"
   ]
  },
  {
   "cell_type": "code",
   "execution_count": null,
   "metadata": {},
   "outputs": [],
   "source": [
    "#Get the muons/ctag time interval (shorter than the field's time interval)\n",
    "muons_time_interval = (df_muons.index.values[1].astype('int64')\n",
    "                      - df_muons.index.values[0].astype('int64'))//1e9\n",
    "\n",
    "#upsample each dataframe to 1 second                      \n",
    "df_muons = df_muons.resample('1S').ffill()\n",
    "df_field = df_field.resample('1S').ffill()\n",
    "\n",
    "#Join the dataframes\n",
    "df_total = df_field.join(df_muons)\n",
    "df_total = df_total.fillna(0)\n",
    "\n",
    "#calculate ctags per second and add it as a column\n",
    "factor = 1/float(muons_time_interval)\n",
    "df_total['ctags_per_second'] = df_total['ctags'].astype(float)*factor\n"
   ]
  },
  {
   "cell_type": "markdown",
   "metadata": {},
   "source": [
    "# Get the CTAG weighted average multipole moments"
   ]
  },
  {
   "cell_type": "code",
   "execution_count": null,
   "metadata": {},
   "outputs": [],
   "source": [
    "total_ctags = df_total[\"ctags_per_second\"].sum()\n",
    "b = [\n",
    "    (df_total[\"D\"]*df_total[\"ctags_per_second\"]).sum()/total_ctags,\n",
    "    (df_total[\"NQ\"]*df_total[\"ctags_per_second\"]).sum()/total_ctags,\n",
    "    (df_total[\"SQ\"]*df_total[\"ctags_per_second\"]).sum()/total_ctags,\n",
    "    (df_total[\"NS\"]*df_total[\"ctags_per_second\"]).sum()/total_ctags\n",
    "    ]\n",
    "eb = [\n",
    "    (df_total[\"eD\"]*df_total[\"ctags_per_second\"]).sum()/total_ctags,\n",
    "    (df_total[\"eNQ\"]*df_total[\"ctags_per_second\"]).sum()/total_ctags,\n",
    "    (df_total[\"eSQ\"]*df_total[\"ctags_per_second\"]).sum()/total_ctags,\n",
    "    (df_total[\"eNS\"]*df_total[\"ctags_per_second\"]).sum()/total_ctags\n",
    "    ]"
   ]
  },
  {
   "cell_type": "markdown",
   "metadata": {},
   "source": [
    "# Get the ctag weighted average field grid"
   ]
  },
  {
   "cell_type": "code",
   "execution_count": null,
   "metadata": {},
   "outputs": [],
   "source": [
    "#First the field\n",
    "df_field_grid = get_field_grid(b)\n",
    "fig = plot_field(df_field_grid)\n",
    "fig"
   ]
  },
  {
   "cell_type": "code",
   "execution_count": null,
   "metadata": {},
   "outputs": [],
   "source": [
    "#Next the error on the field\n",
    "df_field_grid_error = get_field_grid(eb)\n",
    "fig = plot_field(df_field_grid_error)\n",
    "fig"
   ]
  },
  {
   "cell_type": "markdown",
   "metadata": {},
   "source": [
    "# Get the tracker data"
   ]
  },
  {
   "cell_type": "code",
   "execution_count": null,
   "metadata": {},
   "outputs": [],
   "source": [
    "import sys\n",
    "path='/Users/bono/Desktop/gm2FieldAnalysis/MuonConvolution/tracker_info'\n",
    "sys.path.append(path)\n",
    "from beam_moments import *"
   ]
  },
  {
   "cell_type": "code",
   "execution_count": null,
   "metadata": {},
   "outputs": [],
   "source": [
    "df_tracker = get_df_tracker()\n",
    "#only look at station 12\n",
    "df_tracker = df_tracker[df_tracker[\"Station\"] == 'station12']\n",
    "fig = plot_beam(df_tracker,bins=60)\n",
    "fig"
   ]
  },
  {
   "cell_type": "markdown",
   "metadata": {},
   "source": [
    "# Combine ctag weighted field with the beam"
   ]
  },
  {
   "cell_type": "code",
   "execution_count": null,
   "metadata": {},
   "outputs": [],
   "source": [
    "B = (df_tracker['counts']*df_field_grid['B']).sum()/(df_tracker['counts'].sum())\n",
    "eB = (df_tracker['counts']*df_field_grid_error['B']).sum()/(df_tracker['counts'].sum())\n",
    "print(\"Final Result = \",B,\"+/-\",eB)"
   ]
  },
  {
   "cell_type": "markdown",
   "metadata": {},
   "source": [
    "# For comparison, get the time average (ie no CTAG weighting)\n",
    "\n",
    "\n"
   ]
  },
  {
   "cell_type": "code",
   "execution_count": null,
   "metadata": {},
   "outputs": [],
   "source": [
    "#recalculate the 'average' moments\n",
    "b = [df_total[\"D\"].mean(), df_total[\"NQ\"].mean(), \n",
    "      0, df_total[\"NS\"].mean()]\n",
    "\n",
    "eb = [df_total[\"eD\"].mean(), df_total[\"eNQ\"].mean(), \n",
    "      df_total[\"eSQ\"].mean(), df_total[\"eNS\"].mean()]"
   ]
  },
  {
   "cell_type": "code",
   "execution_count": null,
   "metadata": {},
   "outputs": [],
   "source": [
    "#re-plot the field\n",
    "df_field_grid = get_field_grid(b)\n",
    "fig = plot_field(df_field_grid)\n",
    "fig"
   ]
  },
  {
   "cell_type": "code",
   "execution_count": null,
   "metadata": {
    "scrolled": true
   },
   "outputs": [],
   "source": [
    "#re-plot the error on the field\n",
    "df_field_grid_error = get_field_grid(eb)\n",
    "fig = plot_field(df_field_grid_error)\n",
    "fig"
   ]
  },
  {
   "cell_type": "code",
   "execution_count": null,
   "metadata": {},
   "outputs": [],
   "source": [
    "#Recacluate the answer\n",
    "B_new = (df_tracker['counts']*df_field_grid['B']).sum()/(df_tracker['counts'].sum())\n",
    "eB_new = (df_tracker['counts']*df_field_grid_error['B']).sum()/(df_tracker['counts'].sum())\n",
    "print(\"Time averaged Result = \",B_new,\"+/-\",eB_new)\n",
    "print(\"compare with \",B,\"+/-\",eB)"
   ]
  },
  {
   "cell_type": "code",
   "execution_count": null,
   "metadata": {},
   "outputs": [],
   "source": []
  },
  {
   "cell_type": "code",
   "execution_count": null,
   "metadata": {},
   "outputs": [],
   "source": []
  },
  {
   "cell_type": "code",
   "execution_count": null,
   "metadata": {},
   "outputs": [],
   "source": []
  }
 ],
 "metadata": {
  "kernelspec": {
   "display_name": "Python 3",
   "language": "python",
   "name": "python3"
  },
  "language_info": {
   "codemirror_mode": {
    "name": "ipython",
    "version": 3
   },
   "file_extension": ".py",
   "mimetype": "text/x-python",
   "name": "python",
   "nbconvert_exporter": "python",
   "pygments_lexer": "ipython3",
   "version": "3.7.3"
  }
 },
 "nbformat": 4,
 "nbformat_minor": 2
}
