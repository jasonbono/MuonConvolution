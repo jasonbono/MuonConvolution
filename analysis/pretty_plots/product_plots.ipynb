{
 "cells": [
  {
   "cell_type": "code",
   "execution_count": 31,
   "metadata": {},
   "outputs": [],
   "source": [
    "#import basics\n",
    "import sys\n",
    "import os\n",
    "import numpy as np\n",
    "import pandas as pd\n",
    "from scipy import stats\n",
    "basedir='/Users/bono/Desktop/gm2FieldAnalysis/MuonConvolution/'\n",
    "\n",
    "\n",
    "#import the relevant synthesis tools\n",
    "path = basedir + 'synthesis'\n",
    "sys.path.insert(0,path)\n",
    "from spacial_tools import moments_method as mm\n",
    "from basic_grid_tools import plot_grid\n",
    "\n",
    "path = basedir + 'field_info'\n",
    "sys.path.insert(0,path)\n",
    "from format_field import get_field_df"
   ]
  },
  {
   "cell_type": "code",
   "execution_count": 32,
   "metadata": {},
   "outputs": [],
   "source": [
    "#load what's needed\n",
    "path= basedir + 'tracker_info'\n",
    "sys.path.append(path)\n",
    "from beam_moments import *\n",
    "from transform_beam import *\n",
    "from beam_moments import get_normalized_distribution_moments as gndm"
   ]
  },
  {
   "cell_type": "code",
   "execution_count": 33,
   "metadata": {},
   "outputs": [],
   "source": [
    "#for now, import a single file to represent all of run 1\n",
    "tracker_file = basedir + 'tracker_info/sample_data/beamSpot.txt'\n",
    "#get the raw info\n",
    "df_tr = get_df_tracker(file=tracker_file)"
   ]
  },
  {
   "cell_type": "code",
   "execution_count": 34,
   "metadata": {},
   "outputs": [],
   "source": [
    "from apply_tracker_corrections import basic_tracker_correction"
   ]
  },
  {
   "cell_type": "code",
   "execution_count": 35,
   "metadata": {},
   "outputs": [
    {
     "name": "stdout",
     "output_type": "stream",
     "text": [
      "applying shift\n",
      "applying station avg\n",
      "no acceptance corrections right now\n",
      "no deconvolution right now\n"
     ]
    }
   ],
   "source": [
    "df_tr_cor = basic_tracker_correction(df_tr)"
   ]
  },
  {
   "cell_type": "code",
   "execution_count": 36,
   "metadata": {},
   "outputs": [],
   "source": [
    "df_tr_cor['norm_counts'] = df_tr_cor['counts']/df_tr_cor['counts'].sum()"
   ]
  },
  {
   "cell_type": "code",
   "execution_count": 37,
   "metadata": {},
   "outputs": [
    {
     "data": {
      "image/png": "[encoded data removed]",
      "text/plain": [
       "<Figure size 720x576 with 2 Axes>"
      ]
     },
     "execution_count": 37,
     "metadata": {},
     "output_type": "execute_result"
    }
   ],
   "source": [
    "plot_grid(df=df_tr_cor,xvar='radial',yvar='vertical',zvar='norm_counts')"
   ]
  },
  {
   "cell_type": "code",
   "execution_count": 38,
   "metadata": {},
   "outputs": [
    {
     "name": "stdout",
     "output_type": "stream",
     "text": [
      "[1.00000000e+00 1.27368314e-01 9.81133617e-02 1.30311712e-04\n",
      " 3.98041497e-03]\n",
      "[0.         0.00338226 0.0016475  0.00127479 0.00016763]\n"
     ]
    }
   ],
   "source": [
    "x = df_tr_cor['radial']\n",
    "y = df_tr_cor['vertical']\n",
    "weights = df_tr_cor['counts']\n",
    "N_moments = 5\n",
    "I_norm, J_norm = gndm(N_moments,x,y,weights)\n",
    "print(I_norm)\n",
    "print(J_norm)"
   ]
  },
  {
   "cell_type": "code",
   "execution_count": 39,
   "metadata": {},
   "outputs": [],
   "source": [
    "#import the relevant field moments functions\n",
    "path = basedir + 'field_info'\n",
    "sys.path.insert(0,path)\n",
    "from format_field import field_team_to_standard_moments as ftts\n",
    "from field_grid import get_field_grid"
   ]
  },
  {
   "cell_type": "code",
   "execution_count": 40,
   "metadata": {},
   "outputs": [],
   "source": [
    "path = basedir + 'field_info/data/run1/all_multipoles/run1_v00/'\n",
    "flist = ['60Hr_vals_uncertainties_3956-3997.pkl',\n",
    "'HighKick_vals_uncertainties_4058-4098.pkl',\n",
    "'HighKick_vals_uncertainties_4098-4138.pkl',\n",
    "'9day_vals_uncertainties_4138-4181.pkl',\n",
    "'9day_vals_uncertainties_4226-4265.pkl',\n",
    "'9day_vals_uncertainties_4265-4493.pkl',\n",
    "'endgame_vals_uncertainties_5054-5103.pkl',\n",
    "'endgame_vals_uncertainties_5117-5157.pkl',\n",
    "'endgame_vals_uncertainties_5169-5217.pkl',\n",
    "'endgame_vals_uncertainties_5217-5259.pkl']\n",
    "\n"
   ]
  },
  {
   "cell_type": "code",
   "execution_count": 47,
   "metadata": {},
   "outputs": [],
   "source": [
    "f = flist[5]\n",
    "df = pd.read_pickle(path + f)\n",
    "total_ctags = df[\"ctags\"].sum()\n",
    "b = [\n",
    "    (df[\"D\"]*df[\"ctags\"]).sum()/total_ctags,\n",
    "    (df[\"NQ\"]*df[\"ctags\"]).sum()/total_ctags,\n",
    "    (df[\"SQ\"]*df[\"ctags\"]).sum()/total_ctags,\n",
    "    (df[\"NS\"]*df[\"ctags\"]).sum()/total_ctags,\n",
    "    (df[\"SS\"]*df[\"ctags\"]).sum()/total_ctags,\n",
    "    (df[\"NO\"]*df[\"ctags\"]).sum()/total_ctags,\n",
    "    (df[\"NO\"]*df[\"ctags\"]).sum()/total_ctags,\n",
    "    (df[\"ND\"]*df[\"ctags\"]).sum()/total_ctags,\n",
    "    (df[\"ND\"]*df[\"ctags\"]).sum()/total_ctags]\n",
    "\n",
    "b[0] = 0"
   ]
  },
  {
   "cell_type": "code",
   "execution_count": 48,
   "metadata": {},
   "outputs": [
    {
     "data": {
      "text/html": [
       "<div>\n",
       "<style scoped>\n",
       "    .dataframe tbody tr th:only-of-type {\n",
       "        vertical-align: middle;\n",
       "    }\n",
       "\n",
       "    .dataframe tbody tr th {\n",
       "        vertical-align: top;\n",
       "    }\n",
       "\n",
       "    .dataframe thead th {\n",
       "        text-align: right;\n",
       "    }\n",
       "</style>\n",
       "<table border=\"1\" class=\"dataframe\">\n",
       "  <thead>\n",
       "    <tr style=\"text-align: right;\">\n",
       "      <th></th>\n",
       "      <th>x</th>\n",
       "      <th>y</th>\n",
       "      <th>B</th>\n",
       "    </tr>\n",
       "  </thead>\n",
       "  <tbody>\n",
       "    <tr>\n",
       "      <th>0</th>\n",
       "      <td>-59.0</td>\n",
       "      <td>-59.0</td>\n",
       "      <td>-1.024718</td>\n",
       "    </tr>\n",
       "    <tr>\n",
       "      <th>1</th>\n",
       "      <td>-59.0</td>\n",
       "      <td>-57.0</td>\n",
       "      <td>-1.108473</td>\n",
       "    </tr>\n",
       "    <tr>\n",
       "      <th>2</th>\n",
       "      <td>-59.0</td>\n",
       "      <td>-55.0</td>\n",
       "      <td>-1.191445</td>\n",
       "    </tr>\n",
       "    <tr>\n",
       "      <th>3</th>\n",
       "      <td>-59.0</td>\n",
       "      <td>-53.0</td>\n",
       "      <td>-1.273631</td>\n",
       "    </tr>\n",
       "    <tr>\n",
       "      <th>4</th>\n",
       "      <td>-59.0</td>\n",
       "      <td>-51.0</td>\n",
       "      <td>-1.355021</td>\n",
       "    </tr>\n",
       "  </tbody>\n",
       "</table>\n",
       "</div>"
      ],
      "text/plain": [
       "      x     y         B\n",
       "0 -59.0 -59.0 -1.024718\n",
       "1 -59.0 -57.0 -1.108473\n",
       "2 -59.0 -55.0 -1.191445\n",
       "3 -59.0 -53.0 -1.273631\n",
       "4 -59.0 -51.0 -1.355021"
      ]
     },
     "execution_count": 48,
     "metadata": {},
     "output_type": "execute_result"
    }
   ],
   "source": [
    "df_field_grid = get_field_grid(b)\n",
    "df_field_grid.head()"
   ]
  },
  {
   "cell_type": "code",
   "execution_count": 49,
   "metadata": {},
   "outputs": [
    {
     "data": {
      "image/png": "[encoded data removed]",
      "text/plain": [
       "<Figure size 720x576 with 2 Axes>"
      ]
     },
     "execution_count": 49,
     "metadata": {},
     "output_type": "execute_result"
    }
   ],
   "source": [
    "plot_grid(df=df_field_grid,xvar='x',yvar='y',zvar='B')"
   ]
  },
  {
   "cell_type": "code",
   "execution_count": 50,
   "metadata": {},
   "outputs": [],
   "source": [
    "df_field_grid['product'] = df_field_grid['B']*df_tr_cor['norm_counts']"
   ]
  },
  {
   "cell_type": "code",
   "execution_count": 51,
   "metadata": {},
   "outputs": [
    {
     "data": {
      "image/png": "[encoded data removed]",
      "text/plain": [
       "<Figure size 720x576 with 2 Axes>"
      ]
     },
     "execution_count": 51,
     "metadata": {},
     "output_type": "execute_result"
    }
   ],
   "source": [
    "plot_grid(df=df_field_grid,xvar='x',yvar='y',zvar='product')"
   ]
  },
  {
   "cell_type": "code",
   "execution_count": null,
   "metadata": {},
   "outputs": [],
   "source": []
  },
  {
   "cell_type": "code",
   "execution_count": null,
   "metadata": {},
   "outputs": [],
   "source": []
  }
 ],
 "metadata": {
  "kernelspec": {
   "display_name": "Python 3",
   "language": "python",
   "name": "python3"
  },
  "language_info": {
   "codemirror_mode": {
    "name": "ipython",
    "version": 3
   },
   "file_extension": ".py",
   "mimetype": "text/x-python",
   "name": "python",
   "nbconvert_exporter": "python",
   "pygments_lexer": "ipython3",
   "version": "3.7.3"
  }
 },
 "nbformat": 4,
 "nbformat_minor": 2
}
