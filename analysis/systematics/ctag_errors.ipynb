{
 "cells": [
  {
   "cell_type": "code",
   "execution_count": 10,
   "metadata": {},
   "outputs": [],
   "source": [
    "import sys\n",
    "import numpy as np\n",
    "import pandas as pd\n",
    "import matplotlib.pyplot as plt\n",
    "basedir = \"/Users/bono/Desktop/gm2FieldAnalysis/MuonConvolution/\""
   ]
  },
  {
   "cell_type": "markdown",
   "metadata": {},
   "source": [
    "# Get the field moments + odb muon info \n",
    "## Load the pickle file for the 60 hour dataset"
   ]
  },
  {
   "cell_type": "code",
   "execution_count": 11,
   "metadata": {},
   "outputs": [
    {
     "data": {
      "text/html": [
       "<div>\n",
       "<style scoped>\n",
       "    .dataframe tbody tr th:only-of-type {\n",
       "        vertical-align: middle;\n",
       "    }\n",
       "\n",
       "    .dataframe tbody tr th {\n",
       "        vertical-align: top;\n",
       "    }\n",
       "\n",
       "    .dataframe thead th {\n",
       "        text-align: right;\n",
       "    }\n",
       "</style>\n",
       "<table border=\"1\" class=\"dataframe\">\n",
       "  <thead>\n",
       "    <tr style=\"text-align: right;\">\n",
       "      <th></th>\n",
       "      <th></th>\n",
       "      <th>DateTime</th>\n",
       "      <th>D</th>\n",
       "      <th>eD</th>\n",
       "      <th>NQ</th>\n",
       "      <th>eNQ</th>\n",
       "      <th>SQ</th>\n",
       "      <th>eSQ</th>\n",
       "      <th>NS</th>\n",
       "      <th>eNS</th>\n",
       "      <th>start_time</th>\n",
       "      <th>...</th>\n",
       "      <th>field_ok</th>\n",
       "      <th>trolley_period</th>\n",
       "      <th>field_period</th>\n",
       "      <th>ctags_loose_ok</th>\n",
       "      <th>quad_loose_ok</th>\n",
       "      <th>ctags_repeat_ok</th>\n",
       "      <th>losses_repeat_ok</th>\n",
       "      <th>fillcuts_repeat_ok</th>\n",
       "      <th>poor_time</th>\n",
       "      <th>poor_ctags</th>\n",
       "    </tr>\n",
       "    <tr>\n",
       "      <th>run</th>\n",
       "      <th>subrun</th>\n",
       "      <th></th>\n",
       "      <th></th>\n",
       "      <th></th>\n",
       "      <th></th>\n",
       "      <th></th>\n",
       "      <th></th>\n",
       "      <th></th>\n",
       "      <th></th>\n",
       "      <th></th>\n",
       "      <th></th>\n",
       "      <th></th>\n",
       "      <th></th>\n",
       "      <th></th>\n",
       "      <th></th>\n",
       "      <th></th>\n",
       "      <th></th>\n",
       "      <th></th>\n",
       "      <th></th>\n",
       "      <th></th>\n",
       "      <th></th>\n",
       "      <th></th>\n",
       "    </tr>\n",
       "  </thead>\n",
       "  <tbody>\n",
       "    <tr>\n",
       "      <th rowspan=\"5\" valign=\"top\">15921</th>\n",
       "      <th>0</th>\n",
       "      <td>2018-04-22 13:14:02</td>\n",
       "      <td>841.735</td>\n",
       "      <td>0.079075</td>\n",
       "      <td>0.032789</td>\n",
       "      <td>0.096987</td>\n",
       "      <td>0.169870</td>\n",
       "      <td>0.030298</td>\n",
       "      <td>-1.15897</td>\n",
       "      <td>0.035181</td>\n",
       "      <td>2018-04-22 13:14:00</td>\n",
       "      <td>...</td>\n",
       "      <td>True</td>\n",
       "      <td>0.0</td>\n",
       "      <td>1.0</td>\n",
       "      <td>False</td>\n",
       "      <td>None</td>\n",
       "      <td>None</td>\n",
       "      <td>None</td>\n",
       "      <td>None</td>\n",
       "      <td>2018-04-22 13:14:26</td>\n",
       "      <td>231.5</td>\n",
       "    </tr>\n",
       "    <tr>\n",
       "      <th>0</th>\n",
       "      <td>2018-04-22 13:14:04</td>\n",
       "      <td>841.706</td>\n",
       "      <td>0.079075</td>\n",
       "      <td>0.060667</td>\n",
       "      <td>0.096987</td>\n",
       "      <td>0.175534</td>\n",
       "      <td>0.030298</td>\n",
       "      <td>-1.16613</td>\n",
       "      <td>0.035181</td>\n",
       "      <td>2018-04-22 13:14:00</td>\n",
       "      <td>...</td>\n",
       "      <td>True</td>\n",
       "      <td>0.0</td>\n",
       "      <td>1.0</td>\n",
       "      <td>False</td>\n",
       "      <td>None</td>\n",
       "      <td>None</td>\n",
       "      <td>None</td>\n",
       "      <td>None</td>\n",
       "      <td>2018-04-22 13:14:26</td>\n",
       "      <td>231.5</td>\n",
       "    </tr>\n",
       "    <tr>\n",
       "      <th>0</th>\n",
       "      <td>2018-04-22 13:14:06</td>\n",
       "      <td>841.685</td>\n",
       "      <td>0.079075</td>\n",
       "      <td>0.054613</td>\n",
       "      <td>0.096987</td>\n",
       "      <td>0.173558</td>\n",
       "      <td>0.030298</td>\n",
       "      <td>-1.17401</td>\n",
       "      <td>0.035181</td>\n",
       "      <td>2018-04-22 13:14:00</td>\n",
       "      <td>...</td>\n",
       "      <td>True</td>\n",
       "      <td>0.0</td>\n",
       "      <td>1.0</td>\n",
       "      <td>False</td>\n",
       "      <td>None</td>\n",
       "      <td>None</td>\n",
       "      <td>None</td>\n",
       "      <td>None</td>\n",
       "      <td>2018-04-22 13:14:26</td>\n",
       "      <td>231.5</td>\n",
       "    </tr>\n",
       "    <tr>\n",
       "      <th>0</th>\n",
       "      <td>2018-04-22 13:14:08</td>\n",
       "      <td>841.714</td>\n",
       "      <td>0.079075</td>\n",
       "      <td>0.044995</td>\n",
       "      <td>0.096987</td>\n",
       "      <td>0.173786</td>\n",
       "      <td>0.030298</td>\n",
       "      <td>-1.16228</td>\n",
       "      <td>0.035181</td>\n",
       "      <td>2018-04-22 13:14:00</td>\n",
       "      <td>...</td>\n",
       "      <td>True</td>\n",
       "      <td>0.0</td>\n",
       "      <td>1.0</td>\n",
       "      <td>False</td>\n",
       "      <td>None</td>\n",
       "      <td>None</td>\n",
       "      <td>None</td>\n",
       "      <td>None</td>\n",
       "      <td>2018-04-22 13:14:26</td>\n",
       "      <td>231.5</td>\n",
       "    </tr>\n",
       "    <tr>\n",
       "      <th>0</th>\n",
       "      <td>2018-04-22 13:14:10</td>\n",
       "      <td>841.708</td>\n",
       "      <td>0.079075</td>\n",
       "      <td>0.055440</td>\n",
       "      <td>0.096987</td>\n",
       "      <td>0.173864</td>\n",
       "      <td>0.030298</td>\n",
       "      <td>-1.16585</td>\n",
       "      <td>0.035181</td>\n",
       "      <td>2018-04-22 13:14:00</td>\n",
       "      <td>...</td>\n",
       "      <td>True</td>\n",
       "      <td>0.0</td>\n",
       "      <td>1.0</td>\n",
       "      <td>False</td>\n",
       "      <td>None</td>\n",
       "      <td>None</td>\n",
       "      <td>None</td>\n",
       "      <td>None</td>\n",
       "      <td>2018-04-22 13:14:26</td>\n",
       "      <td>231.5</td>\n",
       "    </tr>\n",
       "  </tbody>\n",
       "</table>\n",
       "<p>5 rows × 28 columns</p>\n",
       "</div>"
      ],
      "text/plain": [
       "                        DateTime        D        eD        NQ       eNQ  \\\n",
       "run   subrun                                                              \n",
       "15921 0      2018-04-22 13:14:02  841.735  0.079075  0.032789  0.096987   \n",
       "      0      2018-04-22 13:14:04  841.706  0.079075  0.060667  0.096987   \n",
       "      0      2018-04-22 13:14:06  841.685  0.079075  0.054613  0.096987   \n",
       "      0      2018-04-22 13:14:08  841.714  0.079075  0.044995  0.096987   \n",
       "      0      2018-04-22 13:14:10  841.708  0.079075  0.055440  0.096987   \n",
       "\n",
       "                    SQ       eSQ       NS       eNS          start_time  ...  \\\n",
       "run   subrun                                                             ...   \n",
       "15921 0       0.169870  0.030298 -1.15897  0.035181 2018-04-22 13:14:00  ...   \n",
       "      0       0.175534  0.030298 -1.16613  0.035181 2018-04-22 13:14:00  ...   \n",
       "      0       0.173558  0.030298 -1.17401  0.035181 2018-04-22 13:14:00  ...   \n",
       "      0       0.173786  0.030298 -1.16228  0.035181 2018-04-22 13:14:00  ...   \n",
       "      0       0.173864  0.030298 -1.16585  0.035181 2018-04-22 13:14:00  ...   \n",
       "\n",
       "             field_ok  trolley_period field_period ctags_loose_ok  \\\n",
       "run   subrun                                                        \n",
       "15921 0          True             0.0          1.0          False   \n",
       "      0          True             0.0          1.0          False   \n",
       "      0          True             0.0          1.0          False   \n",
       "      0          True             0.0          1.0          False   \n",
       "      0          True             0.0          1.0          False   \n",
       "\n",
       "              quad_loose_ok  ctags_repeat_ok  losses_repeat_ok  \\\n",
       "run   subrun                                                     \n",
       "15921 0                None             None              None   \n",
       "      0                None             None              None   \n",
       "      0                None             None              None   \n",
       "      0                None             None              None   \n",
       "      0                None             None              None   \n",
       "\n",
       "              fillcuts_repeat_ok           poor_time  poor_ctags  \n",
       "run   subrun                                                      \n",
       "15921 0                     None 2018-04-22 13:14:26       231.5  \n",
       "      0                     None 2018-04-22 13:14:26       231.5  \n",
       "      0                     None 2018-04-22 13:14:26       231.5  \n",
       "      0                     None 2018-04-22 13:14:26       231.5  \n",
       "      0                     None 2018-04-22 13:14:26       231.5  \n",
       "\n",
       "[5 rows x 28 columns]"
      ]
     },
     "execution_count": 11,
     "metadata": {},
     "output_type": "execute_result"
    },
    {
     "data": {
      "text/html": [
       "<div>\n",
       "<style scoped>\n",
       "    .dataframe tbody tr th:only-of-type {\n",
       "        vertical-align: middle;\n",
       "    }\n",
       "\n",
       "    .dataframe tbody tr th {\n",
       "        vertical-align: top;\n",
       "    }\n",
       "\n",
       "    .dataframe thead th {\n",
       "        text-align: right;\n",
       "    }\n",
       "</style>\n",
       "<table border=\"1\" class=\"dataframe\">\n",
       "  <thead>\n",
       "    <tr style=\"text-align: right;\">\n",
       "      <th></th>\n",
       "      <th></th>\n",
       "      <th>DateTime</th>\n",
       "      <th>D</th>\n",
       "      <th>eD</th>\n",
       "      <th>NQ</th>\n",
       "      <th>eNQ</th>\n",
       "      <th>SQ</th>\n",
       "      <th>eSQ</th>\n",
       "      <th>NS</th>\n",
       "      <th>eNS</th>\n",
       "      <th>start_time</th>\n",
       "      <th>...</th>\n",
       "      <th>field_ok</th>\n",
       "      <th>trolley_period</th>\n",
       "      <th>field_period</th>\n",
       "      <th>ctags_loose_ok</th>\n",
       "      <th>quad_loose_ok</th>\n",
       "      <th>ctags_repeat_ok</th>\n",
       "      <th>losses_repeat_ok</th>\n",
       "      <th>fillcuts_repeat_ok</th>\n",
       "      <th>poor_time</th>\n",
       "      <th>poor_ctags</th>\n",
       "    </tr>\n",
       "    <tr>\n",
       "      <th>run</th>\n",
       "      <th>subrun</th>\n",
       "      <th></th>\n",
       "      <th></th>\n",
       "      <th></th>\n",
       "      <th></th>\n",
       "      <th></th>\n",
       "      <th></th>\n",
       "      <th></th>\n",
       "      <th></th>\n",
       "      <th></th>\n",
       "      <th></th>\n",
       "      <th></th>\n",
       "      <th></th>\n",
       "      <th></th>\n",
       "      <th></th>\n",
       "      <th></th>\n",
       "      <th></th>\n",
       "      <th></th>\n",
       "      <th></th>\n",
       "      <th></th>\n",
       "      <th></th>\n",
       "      <th></th>\n",
       "    </tr>\n",
       "  </thead>\n",
       "  <tbody>\n",
       "    <tr>\n",
       "      <th rowspan=\"5\" valign=\"top\">15921</th>\n",
       "      <th>0</th>\n",
       "      <td>2018-04-22 13:14:02</td>\n",
       "      <td>841.735</td>\n",
       "      <td>0.079075</td>\n",
       "      <td>0.032789</td>\n",
       "      <td>0.096987</td>\n",
       "      <td>0.169870</td>\n",
       "      <td>0.030298</td>\n",
       "      <td>-1.15897</td>\n",
       "      <td>0.035181</td>\n",
       "      <td>2018-04-22 13:14:00</td>\n",
       "      <td>...</td>\n",
       "      <td>True</td>\n",
       "      <td>0.0</td>\n",
       "      <td>1.0</td>\n",
       "      <td>False</td>\n",
       "      <td>None</td>\n",
       "      <td>None</td>\n",
       "      <td>None</td>\n",
       "      <td>None</td>\n",
       "      <td>2018-04-22 13:14:26</td>\n",
       "      <td>231.5</td>\n",
       "    </tr>\n",
       "    <tr>\n",
       "      <th>0</th>\n",
       "      <td>2018-04-22 13:14:04</td>\n",
       "      <td>841.706</td>\n",
       "      <td>0.079075</td>\n",
       "      <td>0.060667</td>\n",
       "      <td>0.096987</td>\n",
       "      <td>0.175534</td>\n",
       "      <td>0.030298</td>\n",
       "      <td>-1.16613</td>\n",
       "      <td>0.035181</td>\n",
       "      <td>2018-04-22 13:14:00</td>\n",
       "      <td>...</td>\n",
       "      <td>True</td>\n",
       "      <td>0.0</td>\n",
       "      <td>1.0</td>\n",
       "      <td>False</td>\n",
       "      <td>None</td>\n",
       "      <td>None</td>\n",
       "      <td>None</td>\n",
       "      <td>None</td>\n",
       "      <td>2018-04-22 13:14:26</td>\n",
       "      <td>231.5</td>\n",
       "    </tr>\n",
       "    <tr>\n",
       "      <th>0</th>\n",
       "      <td>2018-04-22 13:14:06</td>\n",
       "      <td>841.685</td>\n",
       "      <td>0.079075</td>\n",
       "      <td>0.054613</td>\n",
       "      <td>0.096987</td>\n",
       "      <td>0.173558</td>\n",
       "      <td>0.030298</td>\n",
       "      <td>-1.17401</td>\n",
       "      <td>0.035181</td>\n",
       "      <td>2018-04-22 13:14:00</td>\n",
       "      <td>...</td>\n",
       "      <td>True</td>\n",
       "      <td>0.0</td>\n",
       "      <td>1.0</td>\n",
       "      <td>False</td>\n",
       "      <td>None</td>\n",
       "      <td>None</td>\n",
       "      <td>None</td>\n",
       "      <td>None</td>\n",
       "      <td>2018-04-22 13:14:26</td>\n",
       "      <td>231.5</td>\n",
       "    </tr>\n",
       "    <tr>\n",
       "      <th>0</th>\n",
       "      <td>2018-04-22 13:14:08</td>\n",
       "      <td>841.714</td>\n",
       "      <td>0.079075</td>\n",
       "      <td>0.044995</td>\n",
       "      <td>0.096987</td>\n",
       "      <td>0.173786</td>\n",
       "      <td>0.030298</td>\n",
       "      <td>-1.16228</td>\n",
       "      <td>0.035181</td>\n",
       "      <td>2018-04-22 13:14:00</td>\n",
       "      <td>...</td>\n",
       "      <td>True</td>\n",
       "      <td>0.0</td>\n",
       "      <td>1.0</td>\n",
       "      <td>False</td>\n",
       "      <td>None</td>\n",
       "      <td>None</td>\n",
       "      <td>None</td>\n",
       "      <td>None</td>\n",
       "      <td>2018-04-22 13:14:26</td>\n",
       "      <td>231.5</td>\n",
       "    </tr>\n",
       "    <tr>\n",
       "      <th>0</th>\n",
       "      <td>2018-04-22 13:14:10</td>\n",
       "      <td>841.708</td>\n",
       "      <td>0.079075</td>\n",
       "      <td>0.055440</td>\n",
       "      <td>0.096987</td>\n",
       "      <td>0.173864</td>\n",
       "      <td>0.030298</td>\n",
       "      <td>-1.16585</td>\n",
       "      <td>0.035181</td>\n",
       "      <td>2018-04-22 13:14:00</td>\n",
       "      <td>...</td>\n",
       "      <td>True</td>\n",
       "      <td>0.0</td>\n",
       "      <td>1.0</td>\n",
       "      <td>False</td>\n",
       "      <td>None</td>\n",
       "      <td>None</td>\n",
       "      <td>None</td>\n",
       "      <td>None</td>\n",
       "      <td>2018-04-22 13:14:26</td>\n",
       "      <td>231.5</td>\n",
       "    </tr>\n",
       "  </tbody>\n",
       "</table>\n",
       "<p>5 rows × 28 columns</p>\n",
       "</div>"
      ],
      "text/plain": [
       "                        DateTime        D        eD        NQ       eNQ  \\\n",
       "run   subrun                                                              \n",
       "15921 0      2018-04-22 13:14:02  841.735  0.079075  0.032789  0.096987   \n",
       "      0      2018-04-22 13:14:04  841.706  0.079075  0.060667  0.096987   \n",
       "      0      2018-04-22 13:14:06  841.685  0.079075  0.054613  0.096987   \n",
       "      0      2018-04-22 13:14:08  841.714  0.079075  0.044995  0.096987   \n",
       "      0      2018-04-22 13:14:10  841.708  0.079075  0.055440  0.096987   \n",
       "\n",
       "                    SQ       eSQ       NS       eNS          start_time  ...  \\\n",
       "run   subrun                                                             ...   \n",
       "15921 0       0.169870  0.030298 -1.15897  0.035181 2018-04-22 13:14:00  ...   \n",
       "      0       0.175534  0.030298 -1.16613  0.035181 2018-04-22 13:14:00  ...   \n",
       "      0       0.173558  0.030298 -1.17401  0.035181 2018-04-22 13:14:00  ...   \n",
       "      0       0.173786  0.030298 -1.16228  0.035181 2018-04-22 13:14:00  ...   \n",
       "      0       0.173864  0.030298 -1.16585  0.035181 2018-04-22 13:14:00  ...   \n",
       "\n",
       "             field_ok  trolley_period field_period ctags_loose_ok  \\\n",
       "run   subrun                                                        \n",
       "15921 0          True             0.0          1.0          False   \n",
       "      0          True             0.0          1.0          False   \n",
       "      0          True             0.0          1.0          False   \n",
       "      0          True             0.0          1.0          False   \n",
       "      0          True             0.0          1.0          False   \n",
       "\n",
       "              quad_loose_ok  ctags_repeat_ok  losses_repeat_ok  \\\n",
       "run   subrun                                                     \n",
       "15921 0                None             None              None   \n",
       "      0                None             None              None   \n",
       "      0                None             None              None   \n",
       "      0                None             None              None   \n",
       "      0                None             None              None   \n",
       "\n",
       "              fillcuts_repeat_ok           poor_time  poor_ctags  \n",
       "run   subrun                                                      \n",
       "15921 0                     None 2018-04-22 13:14:26       231.5  \n",
       "      0                     None 2018-04-22 13:14:26       231.5  \n",
       "      0                     None 2018-04-22 13:14:26       231.5  \n",
       "      0                     None 2018-04-22 13:14:26       231.5  \n",
       "      0                     None 2018-04-22 13:14:26       231.5  \n",
       "\n",
       "[5 rows x 28 columns]"
      ]
     },
     "execution_count": 11,
     "metadata": {},
     "output_type": "execute_result"
    }
   ],
   "source": [
    "path = basedir + 'synthesis/data/60H_field_ctag_dqm.pkl'\n",
    "df = pd.read_pickle(path)\n",
    "df.head()"
   ]
  },
  {
   "cell_type": "markdown",
   "metadata": {},
   "source": [
    "## get the ctag weighted field moments"
   ]
  },
  {
   "cell_type": "code",
   "execution_count": 12,
   "metadata": {},
   "outputs": [],
   "source": [
    "path= basedir + 'field_info/'\n",
    "sys.path.append(path)\n",
    "from field_grid import *"
   ]
  },
  {
   "cell_type": "code",
   "execution_count": 13,
   "metadata": {},
   "outputs": [],
   "source": [
    "total_ctags = df[\"ctags\"].sum()\n",
    "b = [\n",
    "    (df[\"D\"]*df[\"ctags\"]).sum()/total_ctags,\n",
    "    (df[\"NQ\"]*df[\"ctags\"]).sum()/total_ctags,\n",
    "    (df[\"SQ\"]*df[\"ctags\"]).sum()/total_ctags,\n",
    "    (df[\"NS\"]*df[\"ctags\"]).sum()/total_ctags\n",
    "    ]"
   ]
  },
  {
   "cell_type": "markdown",
   "metadata": {},
   "source": [
    "## get and plot the field grid based on the ctag weighted field moments"
   ]
  },
  {
   "cell_type": "code",
   "execution_count": 14,
   "metadata": {},
   "outputs": [
    {
     "data": {
      "image/png": "[encoded data removed]",
      "text/plain": [
       "<Figure size 720x576 with 2 Axes>"
      ]
     },
     "execution_count": 14,
     "metadata": {},
     "output_type": "execute_result"
    },
    {
     "data": {
      "image/png": "[encoded data removed]",
      "text/plain": [
       "<Figure size 720x576 with 2 Axes>"
      ]
     },
     "execution_count": 14,
     "metadata": {},
     "output_type": "execute_result"
    }
   ],
   "source": [
    "df_field_grid = get_field_grid(b)\n",
    "fig = plot_field(df_field_grid)\n",
    "fig"
   ]
  },
  {
   "cell_type": "markdown",
   "metadata": {},
   "source": [
    "# Get the tracker info"
   ]
  },
  {
   "cell_type": "code",
   "execution_count": 15,
   "metadata": {},
   "outputs": [],
   "source": [
    "import sys\n",
    "path= basedir + 'tracker_info'\n",
    "sys.path.append(path)\n",
    "from beam_moments import *\n",
    "from transform_beam import *"
   ]
  },
  {
   "cell_type": "code",
   "execution_count": 16,
   "metadata": {},
   "outputs": [
    {
     "data": {
      "image/png": "[encoded data removed]",
      "text/plain": [
       "<Figure size 720x576 with 2 Axes>"
      ]
     },
     "execution_count": 16,
     "metadata": {},
     "output_type": "execute_result"
    },
    {
     "data": {
      "image/png": "[encoded data removed]",
      "text/plain": [
       "<Figure size 720x576 with 2 Axes>"
      ]
     },
     "execution_count": 16,
     "metadata": {},
     "output_type": "execute_result"
    }
   ],
   "source": [
    "df_tracker = get_df_tracker()\n",
    "#only look at station 12 or 18\n",
    "mask12 = (df_tracker[\"Station\"] == 'station12')\n",
    "mask18 = (df_tracker[\"Station\"] == 'station18')\n",
    "\n",
    "df_12 = df_tracker[mask12].copy()\n",
    "df_12['counts_norm'] = df_12['counts']/df_12['counts'].sum()\n",
    "fig = plot_beam(df_12,bins=60)\n",
    "fig"
   ]
  },
  {
   "cell_type": "code",
   "execution_count": null,
   "metadata": {},
   "outputs": [],
   "source": []
  },
  {
   "cell_type": "code",
   "execution_count": null,
   "metadata": {},
   "outputs": [],
   "source": []
  },
  {
   "cell_type": "markdown",
   "metadata": {},
   "source": [
    "# mess up the ctags and see the result"
   ]
  },
  {
   "cell_type": "code",
   "execution_count": 23,
   "metadata": {},
   "outputs": [],
   "source": [
    "size = df.shape[0]\n",
    "noise_max = 10\n",
    "\n",
    "noise =  np.random.randint(-noise_max,noise_max, size)\n",
    "noise = noise/100.0\n",
    "df['noisy_ctags'] = df['ctags'] + df['ctags']*noise"
   ]
  },
  {
   "cell_type": "code",
   "execution_count": 25,
   "metadata": {},
   "outputs": [
    {
     "data": {
      "text/plain": [
       "<matplotlib.axes._subplots.AxesSubplot at 0x12fb70ac8>"
      ]
     },
     "execution_count": 25,
     "metadata": {},
     "output_type": "execute_result"
    },
    {
     "data": {
      "text/plain": [
       "<matplotlib.axes._subplots.AxesSubplot at 0x12fb70ac8>"
      ]
     },
     "execution_count": 25,
     "metadata": {},
     "output_type": "execute_result"
    },
    {
     "data": {
      "image/png": "[encoded data removed]",
      "text/plain": [
       "<Figure size 432x288 with 1 Axes>"
      ]
     },
     "metadata": {
      "needs_background": "light"
     },
     "output_type": "display_data"
    },
    {
     "data": {
      "image/png": "[encoded data removed]",
      "text/plain": [
       "<Figure size 432x288 with 1 Axes>"
      ]
     },
     "metadata": {
      "needs_background": "light"
     },
     "output_type": "display_data"
    }
   ],
   "source": [
    "df.plot('ctags','noisy_ctags',style='o')"
   ]
  },
  {
   "cell_type": "markdown",
   "metadata": {},
   "source": [
    "### Now add progressivly more noise in a loop"
   ]
  },
  {
   "cell_type": "code",
   "execution_count": null,
   "metadata": {},
   "outputs": [],
   "source": [
    "fig = plt.figure(figsize=(11,7))\n",
    "size = df.shape[0]\n",
    "spacing = 5.\n",
    "low = 0\n",
    "high = 100\n",
    "maxes = np.arange(low,high,spacing)\n",
    "\n",
    "B_arr = np.empty(0)\n",
    "for noise_max in maxes:\n",
    "    noise =  np.random.randint(-noise_max,noise_max, size)\n",
    "    noise = noise/100.0\n",
    "    total_ctags = df[\"noisy_ctags\"].sum()\n",
    "    b = [\n",
    "        (df[\"D\"]*df[\"noisy_ctags\"]).sum()/total_ctags,\n",
    "        (df[\"NQ\"]*df[\"noisy_ctags\"]).sum()/total_ctags,\n",
    "        (df[\"SQ\"]*df[\"noisy_ctags\"]).sum()/total_ctags,\n",
    "        (df[\"NS\"]*df[\"noisy_ctags\"]).sum()/total_ctags\n",
    "    ]\n",
    "    \n",
    "    B = (df['counts']*df_field_grid['B']).sum()/(df['counts'].sum())\n",
    "    B_arr = np.append(B_arr,B)"
   ]
  },
  {
   "cell_type": "code",
   "execution_count": 18,
   "metadata": {},
   "outputs": [
    {
     "ename": "SyntaxError",
     "evalue": "invalid syntax (<ipython-input-18-737c91737819>, line 10)",
     "output_type": "error",
     "traceback": [
      "\u001b[0;36m  File \u001b[0;32m\"<ipython-input-18-737c91737819>\"\u001b[0;36m, line \u001b[0;32m10\u001b[0m\n\u001b[0;31m    for  in rand_range:\u001b[0m\n\u001b[0m          ^\u001b[0m\n\u001b[0;31mSyntaxError\u001b[0m\u001b[0;31m:\u001b[0m invalid syntax\n"
     ]
    },
    {
     "ename": "SyntaxError",
     "evalue": "invalid syntax (<ipython-input-18-737c91737819>, line 10)",
     "output_type": "error",
     "traceback": [
      "\u001b[0;36m  File \u001b[0;32m\"<ipython-input-18-737c91737819>\"\u001b[0;36m, line \u001b[0;32m10\u001b[0m\n\u001b[0;31m    for  in rand_range:\u001b[0m\n\u001b[0m          ^\u001b[0m\n\u001b[0;31mSyntaxError\u001b[0m\u001b[0;31m:\u001b[0m invalid syntax\n"
     ]
    }
   ],
   "source": [
    "spacing = 5.\n",
    "low = 0\n",
    "high=100\n",
    "\n",
    "\n",
    "\n",
    "\n",
    "\n",
    "#####Station 12########\n",
    "B_arr = np.empty(0)\n",
    "rand_range = np.arange(low,high,spacing)\n",
    "for  in rand_range:\n",
    "    df = shift_beam(df_12,xshift,yshift)\n",
    "    B = (df['counts']*df_field_grid['B']).sum()/(df['counts'].sum())\n",
    "    B_arr = np.append(B_arr,B)\n",
    "plt.scatter(x_range, B_arr, alpha=0.9, marker=9,\n",
    "            label=\"Station 12: x translation\",s=200)"
   ]
  },
  {
   "cell_type": "code",
   "execution_count": null,
   "metadata": {},
   "outputs": [],
   "source": []
  },
  {
   "cell_type": "code",
   "execution_count": null,
   "metadata": {},
   "outputs": [],
   "source": []
  },
  {
   "cell_type": "code",
   "execution_count": null,
   "metadata": {},
   "outputs": [],
   "source": []
  },
  {
   "cell_type": "code",
   "execution_count": null,
   "metadata": {},
   "outputs": [],
   "source": []
  }
 ],
 "metadata": {
  "kernelspec": {
   "display_name": "Python 3",
   "language": "python",
   "name": "python3"
  },
  "language_info": {
   "codemirror_mode": {
    "name": "ipython",
    "version": 3
   },
   "file_extension": ".py",
   "mimetype": "text/x-python",
   "name": "python",
   "nbconvert_exporter": "python",
   "pygments_lexer": "ipython3",
   "version": "3.7.3"
  }
 },
 "nbformat": 4,
 "nbformat_minor": 2
}
