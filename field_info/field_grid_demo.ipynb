{
 "cells": [
  {
   "cell_type": "code",
   "execution_count": 2,
   "metadata": {},
   "outputs": [],
   "source": [
    "from field_grid import cartesian_field\n",
    "import numpy as np\n",
    "import pandas as pd"
   ]
  },
  {
   "cell_type": "code",
   "execution_count": 7,
   "metadata": {},
   "outputs": [],
   "source": [
    "a = np.array([1,1,1,1,1,1])"
   ]
  },
  {
   "cell_type": "code",
   "execution_count": 8,
   "metadata": {},
   "outputs": [],
   "source": [
    "# pos = range(-59,60)\n",
    "# vals = [(x,y,cartesian_field(a,x,y)) for x in pos for y in pos]\n",
    "# # vals = [(x,y,cartesian_field(a,x,y)) for x in range(-59,60) for y in range(-59,60)]\n",
    "# vals = np.array(vals)"
   ]
  },
  {
   "cell_type": "code",
   "execution_count": null,
   "metadata": {},
   "outputs": [],
   "source": [
    "\n"
   ]
  },
  {
   "cell_type": "code",
   "execution_count": 10,
   "metadata": {},
   "outputs": [
    {
     "data": {
      "text/plain": [
       "0       -13.255848\n",
       "1       -12.674427\n",
       "2       -12.074640\n",
       "3       -11.458349\n",
       "4       -10.827375\n",
       "           ...    \n",
       "14156   -10.827375\n",
       "14157   -11.458349\n",
       "14158   -12.074640\n",
       "14159   -12.674427\n",
       "14160   -13.255848\n",
       "Name: B, Length: 14161, dtype: float64"
      ]
     },
     "execution_count": 10,
     "metadata": {},
     "output_type": "execute_result"
    }
   ],
   "source": [
    "# col_names =  ['x', 'y', 'B']\n",
    "# df  = pd.DataFrame(columns = col_names)\n",
    "# df['x'] = vals[:,0]\n",
    "# df['y'] = vals[:,1]\n",
    "# df['B'] = vals[:,2]\n",
    "# df['B'].apply((lambda x: x + cartesian_field(a,0,0)))\n",
    "# # df"
   ]
  },
  {
   "cell_type": "code",
   "execution_count": null,
   "metadata": {},
   "outputs": [],
   "source": []
  },
  {
   "cell_type": "code",
   "execution_count": null,
   "metadata": {},
   "outputs": [],
   "source": []
  },
  {
   "cell_type": "code",
   "execution_count": null,
   "metadata": {},
   "outputs": [],
   "source": []
  },
  {
   "cell_type": "code",
   "execution_count": null,
   "metadata": {},
   "outputs": [],
   "source": []
  },
  {
   "cell_type": "code",
   "execution_count": null,
   "metadata": {},
   "outputs": [],
   "source": []
  }
 ],
 "metadata": {
  "kernelspec": {
   "display_name": "Python 3",
   "language": "python",
   "name": "python3"
  },
  "language_info": {
   "codemirror_mode": {
    "name": "ipython",
    "version": 3
   },
   "file_extension": ".py",
   "mimetype": "text/x-python",
   "name": "python",
   "nbconvert_exporter": "python",
   "pygments_lexer": "ipython3",
   "version": "3.7.3"
  }
 },
 "nbformat": 4,
 "nbformat_minor": 2
}
