{
 "cells": [
  {
   "cell_type": "markdown",
   "metadata": {},
   "source": [
    "# Here we demonstrate how to do the grid method\n",
    "\n",
    "Note: This should (and has been tested to) work out of the box, only after the field data has been processed and pickled. \n",
    "\n",
    "\n",
    "To understand the processing the field data, see synthesis/process_field_files.py/. This is the script that was used to process the field text files (eg 9day_vals_uncertainties_4138-4181.txt) and save the results in a pickle file (eg 9day_vals_uncertainties_4138-4181.pkl)\n",
    "\n",
    "It basically just runs the 'pickle_field' modual from the synthesis/combine_data_products lib over the raw (text) data.\n",
    "\n",
    "(note that process_field_files.py reqires no arguments. Just set up the raw data and run the script.)\n",
    "\n",
    "Format for text file: \n",
    "\n",
    "`time Dipole DipoleError NormalQuadrupole NormalQuadrupoleError SkewQuadrupoleError...` out to the decapole  \n",
    "\n",
    "eg: \n",
    "\n",
    "`1525280836 838.757 0.0560868 -0.0383517 0.0545098 0.636382 0.054331 -1.39545 0.0544132 0.438885 0.0439271 0.0181169 0.043803 0.27827 0.0438037 0.069667 0.0438029 -1.37081 0.04380429`"
   ]
  },
  {
   "cell_type": "markdown",
   "metadata": {},
   "source": [
    "# Basic Setup"
   ]
  },
  {
   "cell_type": "code",
   "execution_count": 1,
   "metadata": {},
   "outputs": [],
   "source": [
    "import sys\n",
    "import pandas as pd\n",
    "\n",
    "#you will need to change the basedir to match the location on your machine\n",
    "basedir='/Users/bono/Desktop/gm2FieldAnalysis/MuonConvolution/'"
   ]
  },
  {
   "cell_type": "markdown",
   "metadata": {},
   "source": [
    "# The Beam \n",
    "## load beam libs"
   ]
  },
  {
   "cell_type": "code",
   "execution_count": 2,
   "metadata": {},
   "outputs": [],
   "source": [
    "path= basedir + 'tracker_info'\n",
    "sys.path.append(path)\n",
    "from beam_moments import get_df_tracker"
   ]
  },
  {
   "cell_type": "markdown",
   "metadata": {},
   "source": [
    "## load beam data\n",
    "\n",
    "note that the raw tracker data is lightweight and is thus included in the git repo, thus no extra steps are needed. just run the below commands.\n",
    "\n",
    "(To understand how the beam data is structured and processed, see the get_df_tracker function in ~/tracker_info/beam_moments.py)"
   ]
  },
  {
   "cell_type": "code",
   "execution_count": 3,
   "metadata": {},
   "outputs": [
    {
     "data": {
      "text/html": [
       "<div>\n",
       "<style scoped>\n",
       "    .dataframe tbody tr th:only-of-type {\n",
       "        vertical-align: middle;\n",
       "    }\n",
       "\n",
       "    .dataframe tbody tr th {\n",
       "        vertical-align: top;\n",
       "    }\n",
       "\n",
       "    .dataframe thead th {\n",
       "        text-align: right;\n",
       "    }\n",
       "</style>\n",
       "<table border=\"1\" class=\"dataframe\">\n",
       "  <thead>\n",
       "    <tr style=\"text-align: right;\">\n",
       "      <th></th>\n",
       "      <th>index</th>\n",
       "      <th>radial</th>\n",
       "      <th>vertical</th>\n",
       "      <th>counts</th>\n",
       "      <th>Station</th>\n",
       "    </tr>\n",
       "  </thead>\n",
       "  <tbody>\n",
       "    <tr>\n",
       "      <th>0</th>\n",
       "      <td>2</td>\n",
       "      <td>-59.0</td>\n",
       "      <td>-59.0</td>\n",
       "      <td>0.0</td>\n",
       "      <td>station12</td>\n",
       "    </tr>\n",
       "    <tr>\n",
       "      <th>1</th>\n",
       "      <td>3</td>\n",
       "      <td>-59.0</td>\n",
       "      <td>-57.0</td>\n",
       "      <td>0.0</td>\n",
       "      <td>station12</td>\n",
       "    </tr>\n",
       "    <tr>\n",
       "      <th>2</th>\n",
       "      <td>4</td>\n",
       "      <td>-59.0</td>\n",
       "      <td>-55.0</td>\n",
       "      <td>0.0</td>\n",
       "      <td>station12</td>\n",
       "    </tr>\n",
       "    <tr>\n",
       "      <th>3</th>\n",
       "      <td>5</td>\n",
       "      <td>-59.0</td>\n",
       "      <td>-53.0</td>\n",
       "      <td>0.0</td>\n",
       "      <td>station12</td>\n",
       "    </tr>\n",
       "    <tr>\n",
       "      <th>4</th>\n",
       "      <td>6</td>\n",
       "      <td>-59.0</td>\n",
       "      <td>-51.0</td>\n",
       "      <td>0.0</td>\n",
       "      <td>station12</td>\n",
       "    </tr>\n",
       "  </tbody>\n",
       "</table>\n",
       "</div>"
      ],
      "text/plain": [
       "   index  radial  vertical  counts    Station\n",
       "0      2   -59.0     -59.0     0.0  station12\n",
       "1      3   -59.0     -57.0     0.0  station12\n",
       "2      4   -59.0     -55.0     0.0  station12\n",
       "3      5   -59.0     -53.0     0.0  station12\n",
       "4      6   -59.0     -51.0     0.0  station12"
      ]
     },
     "execution_count": 3,
     "metadata": {},
     "output_type": "execute_result"
    }
   ],
   "source": [
    "file = path + '/beamSpot.txt'\n",
    "df_tracker = get_df_tracker(file=file)\n",
    "mask12 = (df_tracker[\"Station\"] == 'station12')\n",
    "df_12 = df_tracker[mask12].copy()\n",
    "df_12.head()"
   ]
  },
  {
   "cell_type": "markdown",
   "metadata": {},
   "source": [
    "Show the beam (the general way to use the plot_grid function should be clear)"
   ]
  },
  {
   "cell_type": "code",
   "execution_count": 4,
   "metadata": {},
   "outputs": [
    {
     "data": {
      "image/png": "[encoded data removed]",
      "text/plain": [
       "<Figure size 720x576 with 2 Axes>"
      ]
     },
     "execution_count": 4,
     "metadata": {},
     "output_type": "execute_result"
    }
   ],
   "source": [
    "#first load the lib\n",
    "path = basedir + 'synthesis'\n",
    "sys.path.insert(0,path)\n",
    "from basic_grid_tools import plot_grid\n",
    "#now use the lib\n",
    "plot_grid(df=df_12,xvar='radial',yvar='vertical',zvar='counts')"
   ]
  },
  {
   "cell_type": "markdown",
   "metadata": {},
   "source": [
    "# The field"
   ]
  },
  {
   "cell_type": "markdown",
   "metadata": {},
   "source": [
    "## load grid method libs"
   ]
  },
  {
   "cell_type": "code",
   "execution_count": 5,
   "metadata": {},
   "outputs": [],
   "source": [
    "path = basedir + 'field_info'\n",
    "sys.path.insert(0,path)\n",
    "from field_grid import *"
   ]
  },
  {
   "cell_type": "markdown",
   "metadata": {},
   "source": [
    "## load field data\n",
    "Here you retreive the dataframe with the relevant field info\n",
    "(As mentioned, you need to have processed and pickled the field data already for this step)"
   ]
  },
  {
   "cell_type": "code",
   "execution_count": 6,
   "metadata": {},
   "outputs": [
    {
     "data": {
      "text/html": [
       "<div>\n",
       "<style scoped>\n",
       "    .dataframe tbody tr th:only-of-type {\n",
       "        vertical-align: middle;\n",
       "    }\n",
       "\n",
       "    .dataframe tbody tr th {\n",
       "        vertical-align: top;\n",
       "    }\n",
       "\n",
       "    .dataframe thead th {\n",
       "        text-align: right;\n",
       "    }\n",
       "</style>\n",
       "<table border=\"1\" class=\"dataframe\">\n",
       "  <thead>\n",
       "    <tr style=\"text-align: right;\">\n",
       "      <th></th>\n",
       "      <th></th>\n",
       "      <th>DateTime</th>\n",
       "      <th>D</th>\n",
       "      <th>eD</th>\n",
       "      <th>NQ</th>\n",
       "      <th>eNQ</th>\n",
       "      <th>SQ</th>\n",
       "      <th>eSQ</th>\n",
       "      <th>NS</th>\n",
       "      <th>eNS</th>\n",
       "      <th>SS</th>\n",
       "      <th>...</th>\n",
       "      <th>SO</th>\n",
       "      <th>eSO</th>\n",
       "      <th>ND</th>\n",
       "      <th>eND</th>\n",
       "      <th>SD</th>\n",
       "      <th>eSD</th>\n",
       "      <th>ctags</th>\n",
       "      <th>start_time</th>\n",
       "      <th>end_time</th>\n",
       "      <th>poor_ctags</th>\n",
       "    </tr>\n",
       "    <tr>\n",
       "      <th>run</th>\n",
       "      <th>subrun</th>\n",
       "      <th></th>\n",
       "      <th></th>\n",
       "      <th></th>\n",
       "      <th></th>\n",
       "      <th></th>\n",
       "      <th></th>\n",
       "      <th></th>\n",
       "      <th></th>\n",
       "      <th></th>\n",
       "      <th></th>\n",
       "      <th></th>\n",
       "      <th></th>\n",
       "      <th></th>\n",
       "      <th></th>\n",
       "      <th></th>\n",
       "      <th></th>\n",
       "      <th></th>\n",
       "      <th></th>\n",
       "      <th></th>\n",
       "      <th></th>\n",
       "      <th></th>\n",
       "    </tr>\n",
       "  </thead>\n",
       "  <tbody>\n",
       "    <tr>\n",
       "      <th rowspan=\"5\" valign=\"top\">15921</th>\n",
       "      <th>0</th>\n",
       "      <td>2018-04-22 13:14:01</td>\n",
       "      <td>838.099</td>\n",
       "      <td>0.065085</td>\n",
       "      <td>-0.079133</td>\n",
       "      <td>0.057698</td>\n",
       "      <td>0.182330</td>\n",
       "      <td>0.056887</td>\n",
       "      <td>-1.17145</td>\n",
       "      <td>0.058112</td>\n",
       "      <td>0.303779</td>\n",
       "      <td>...</td>\n",
       "      <td>0.266763</td>\n",
       "      <td>0.043889</td>\n",
       "      <td>0.069171</td>\n",
       "      <td>0.04386</td>\n",
       "      <td>-1.39197</td>\n",
       "      <td>0.043907</td>\n",
       "      <td>0</td>\n",
       "      <td>2018-04-22 13:14:00</td>\n",
       "      <td>2018-04-22 13:14:34</td>\n",
       "      <td>231.5</td>\n",
       "    </tr>\n",
       "    <tr>\n",
       "      <th>0</th>\n",
       "      <td>2018-04-22 13:14:03</td>\n",
       "      <td>838.078</td>\n",
       "      <td>0.065085</td>\n",
       "      <td>-0.087916</td>\n",
       "      <td>0.057698</td>\n",
       "      <td>0.181335</td>\n",
       "      <td>0.056887</td>\n",
       "      <td>-1.17794</td>\n",
       "      <td>0.058112</td>\n",
       "      <td>0.303780</td>\n",
       "      <td>...</td>\n",
       "      <td>0.266763</td>\n",
       "      <td>0.043889</td>\n",
       "      <td>0.069171</td>\n",
       "      <td>0.04386</td>\n",
       "      <td>-1.39197</td>\n",
       "      <td>0.043907</td>\n",
       "      <td>0</td>\n",
       "      <td>2018-04-22 13:14:00</td>\n",
       "      <td>2018-04-22 13:14:34</td>\n",
       "      <td>231.5</td>\n",
       "    </tr>\n",
       "    <tr>\n",
       "      <th>0</th>\n",
       "      <td>2018-04-22 13:14:05</td>\n",
       "      <td>838.090</td>\n",
       "      <td>0.065086</td>\n",
       "      <td>-0.088702</td>\n",
       "      <td>0.057699</td>\n",
       "      <td>0.179374</td>\n",
       "      <td>0.056887</td>\n",
       "      <td>-1.17500</td>\n",
       "      <td>0.058112</td>\n",
       "      <td>0.303781</td>\n",
       "      <td>...</td>\n",
       "      <td>0.266763</td>\n",
       "      <td>0.043889</td>\n",
       "      <td>0.069171</td>\n",
       "      <td>0.04386</td>\n",
       "      <td>-1.39197</td>\n",
       "      <td>0.043907</td>\n",
       "      <td>0</td>\n",
       "      <td>2018-04-22 13:14:00</td>\n",
       "      <td>2018-04-22 13:14:34</td>\n",
       "      <td>231.5</td>\n",
       "    </tr>\n",
       "    <tr>\n",
       "      <th>0</th>\n",
       "      <td>2018-04-22 13:14:07</td>\n",
       "      <td>838.107</td>\n",
       "      <td>0.065086</td>\n",
       "      <td>-0.099699</td>\n",
       "      <td>0.057699</td>\n",
       "      <td>0.180806</td>\n",
       "      <td>0.056888</td>\n",
       "      <td>-1.17138</td>\n",
       "      <td>0.058112</td>\n",
       "      <td>0.303781</td>\n",
       "      <td>...</td>\n",
       "      <td>0.266763</td>\n",
       "      <td>0.043889</td>\n",
       "      <td>0.069171</td>\n",
       "      <td>0.04386</td>\n",
       "      <td>-1.39197</td>\n",
       "      <td>0.043907</td>\n",
       "      <td>0</td>\n",
       "      <td>2018-04-22 13:14:00</td>\n",
       "      <td>2018-04-22 13:14:34</td>\n",
       "      <td>231.5</td>\n",
       "    </tr>\n",
       "    <tr>\n",
       "      <th>0</th>\n",
       "      <td>2018-04-22 13:14:09</td>\n",
       "      <td>838.111</td>\n",
       "      <td>0.065086</td>\n",
       "      <td>-0.102604</td>\n",
       "      <td>0.057699</td>\n",
       "      <td>0.181792</td>\n",
       "      <td>0.056888</td>\n",
       "      <td>-1.16972</td>\n",
       "      <td>0.058112</td>\n",
       "      <td>0.303782</td>\n",
       "      <td>...</td>\n",
       "      <td>0.266763</td>\n",
       "      <td>0.043889</td>\n",
       "      <td>0.069171</td>\n",
       "      <td>0.04386</td>\n",
       "      <td>-1.39197</td>\n",
       "      <td>0.043907</td>\n",
       "      <td>0</td>\n",
       "      <td>2018-04-22 13:14:00</td>\n",
       "      <td>2018-04-22 13:14:34</td>\n",
       "      <td>231.5</td>\n",
       "    </tr>\n",
       "  </tbody>\n",
       "</table>\n",
       "<p>5 rows × 23 columns</p>\n",
       "</div>"
      ],
      "text/plain": [
       "                        DateTime        D        eD        NQ       eNQ  \\\n",
       "run   subrun                                                              \n",
       "15921 0      2018-04-22 13:14:01  838.099  0.065085 -0.079133  0.057698   \n",
       "      0      2018-04-22 13:14:03  838.078  0.065085 -0.087916  0.057698   \n",
       "      0      2018-04-22 13:14:05  838.090  0.065086 -0.088702  0.057699   \n",
       "      0      2018-04-22 13:14:07  838.107  0.065086 -0.099699  0.057699   \n",
       "      0      2018-04-22 13:14:09  838.111  0.065086 -0.102604  0.057699   \n",
       "\n",
       "                    SQ       eSQ       NS       eNS        SS  ...        SO  \\\n",
       "run   subrun                                                   ...             \n",
       "15921 0       0.182330  0.056887 -1.17145  0.058112  0.303779  ...  0.266763   \n",
       "      0       0.181335  0.056887 -1.17794  0.058112  0.303780  ...  0.266763   \n",
       "      0       0.179374  0.056887 -1.17500  0.058112  0.303781  ...  0.266763   \n",
       "      0       0.180806  0.056888 -1.17138  0.058112  0.303781  ...  0.266763   \n",
       "      0       0.181792  0.056888 -1.16972  0.058112  0.303782  ...  0.266763   \n",
       "\n",
       "                   eSO        ND      eND       SD       eSD  ctags  \\\n",
       "run   subrun                                                          \n",
       "15921 0       0.043889  0.069171  0.04386 -1.39197  0.043907      0   \n",
       "      0       0.043889  0.069171  0.04386 -1.39197  0.043907      0   \n",
       "      0       0.043889  0.069171  0.04386 -1.39197  0.043907      0   \n",
       "      0       0.043889  0.069171  0.04386 -1.39197  0.043907      0   \n",
       "      0       0.043889  0.069171  0.04386 -1.39197  0.043907      0   \n",
       "\n",
       "                      start_time            end_time  poor_ctags  \n",
       "run   subrun                                                      \n",
       "15921 0      2018-04-22 13:14:00 2018-04-22 13:14:34       231.5  \n",
       "      0      2018-04-22 13:14:00 2018-04-22 13:14:34       231.5  \n",
       "      0      2018-04-22 13:14:00 2018-04-22 13:14:34       231.5  \n",
       "      0      2018-04-22 13:14:00 2018-04-22 13:14:34       231.5  \n",
       "      0      2018-04-22 13:14:00 2018-04-22 13:14:34       231.5  \n",
       "\n",
       "[5 rows x 23 columns]"
      ]
     },
     "execution_count": 6,
     "metadata": {},
     "output_type": "execute_result"
    }
   ],
   "source": [
    "path = basedir + 'field_info/data/run1/all_multipoles/run1_v00/'\n",
    "path = path + '60Hr_vals_uncertainties_3956-3997.pkl'\n",
    "df = pd.read_pickle(path)\n",
    "df.head()"
   ]
  },
  {
   "cell_type": "markdown",
   "metadata": {},
   "source": [
    "## Calculate field quantities\n",
    "Calculate the ctag averaged value of all the multipoles"
   ]
  },
  {
   "cell_type": "code",
   "execution_count": 7,
   "metadata": {},
   "outputs": [
    {
     "data": {
      "text/plain": [
       "[837.7642600991675,\n",
       " -0.10057707978851607,\n",
       " 0.252993670910658,\n",
       " -1.2046715662660914,\n",
       " 0.3380052596425491,\n",
       " 0.008032805835361366,\n",
       " 0.008032805835361366,\n",
       " 0.06915686581228143,\n",
       " 0.06915686581228143]"
      ]
     },
     "execution_count": 7,
     "metadata": {},
     "output_type": "execute_result"
    }
   ],
   "source": [
    "total_ctags = df[\"ctags\"].sum()\n",
    "b = [\n",
    "    (df[\"D\"]*df[\"ctags\"]).sum()/total_ctags,\n",
    "    (df[\"NQ\"]*df[\"ctags\"]).sum()/total_ctags,\n",
    "    (df[\"SQ\"]*df[\"ctags\"]).sum()/total_ctags,\n",
    "    (df[\"NS\"]*df[\"ctags\"]).sum()/total_ctags,\n",
    "    (df[\"SS\"]*df[\"ctags\"]).sum()/total_ctags,\n",
    "    (df[\"NO\"]*df[\"ctags\"]).sum()/total_ctags,\n",
    "    (df[\"NO\"]*df[\"ctags\"]).sum()/total_ctags,\n",
    "    (df[\"ND\"]*df[\"ctags\"]).sum()/total_ctags,\n",
    "    (df[\"ND\"]*df[\"ctags\"]).sum()/total_ctags]\n",
    "b"
   ]
  },
  {
   "cell_type": "markdown",
   "metadata": {},
   "source": [
    "Now calculate the 'field grid'"
   ]
  },
  {
   "cell_type": "code",
   "execution_count": 8,
   "metadata": {},
   "outputs": [
    {
     "data": {
      "text/html": [
       "<div>\n",
       "<style scoped>\n",
       "    .dataframe tbody tr th:only-of-type {\n",
       "        vertical-align: middle;\n",
       "    }\n",
       "\n",
       "    .dataframe tbody tr th {\n",
       "        vertical-align: top;\n",
       "    }\n",
       "\n",
       "    .dataframe thead th {\n",
       "        text-align: right;\n",
       "    }\n",
       "</style>\n",
       "<table border=\"1\" class=\"dataframe\">\n",
       "  <thead>\n",
       "    <tr style=\"text-align: right;\">\n",
       "      <th></th>\n",
       "      <th>x</th>\n",
       "      <th>y</th>\n",
       "      <th>B</th>\n",
       "    </tr>\n",
       "  </thead>\n",
       "  <tbody>\n",
       "    <tr>\n",
       "      <th>0</th>\n",
       "      <td>-59.0</td>\n",
       "      <td>-59.0</td>\n",
       "      <td>837.909060</td>\n",
       "    </tr>\n",
       "    <tr>\n",
       "      <th>1</th>\n",
       "      <td>-59.0</td>\n",
       "      <td>-57.0</td>\n",
       "      <td>837.847358</td>\n",
       "    </tr>\n",
       "    <tr>\n",
       "      <th>2</th>\n",
       "      <td>-59.0</td>\n",
       "      <td>-55.0</td>\n",
       "      <td>837.785029</td>\n",
       "    </tr>\n",
       "    <tr>\n",
       "      <th>3</th>\n",
       "      <td>-59.0</td>\n",
       "      <td>-53.0</td>\n",
       "      <td>837.722078</td>\n",
       "    </tr>\n",
       "    <tr>\n",
       "      <th>4</th>\n",
       "      <td>-59.0</td>\n",
       "      <td>-51.0</td>\n",
       "      <td>837.658516</td>\n",
       "    </tr>\n",
       "  </tbody>\n",
       "</table>\n",
       "</div>"
      ],
      "text/plain": [
       "      x     y           B\n",
       "0 -59.0 -59.0  837.909060\n",
       "1 -59.0 -57.0  837.847358\n",
       "2 -59.0 -55.0  837.785029\n",
       "3 -59.0 -53.0  837.722078\n",
       "4 -59.0 -51.0  837.658516"
      ]
     },
     "execution_count": 8,
     "metadata": {},
     "output_type": "execute_result"
    }
   ],
   "source": [
    "df_field_grid = get_field_grid(b)\n",
    "df_field_grid.head()"
   ]
  },
  {
   "cell_type": "markdown",
   "metadata": {},
   "source": [
    "Show the field:"
   ]
  },
  {
   "cell_type": "code",
   "execution_count": 9,
   "metadata": {},
   "outputs": [
    {
     "data": {
      "image/png": "[encoded data removed]",
      "text/plain": [
       "<Figure size 720x576 with 2 Axes>"
      ]
     },
     "execution_count": 9,
     "metadata": {},
     "output_type": "execute_result"
    }
   ],
   "source": [
    "plot_grid(df=df_field_grid,xvar='x',yvar='y',zvar='B')"
   ]
  },
  {
   "cell_type": "markdown",
   "metadata": {},
   "source": [
    "# Finally, calculate < B >\n",
    "it's just a weighted average"
   ]
  },
  {
   "cell_type": "code",
   "execution_count": 10,
   "metadata": {},
   "outputs": [
    {
     "data": {
      "text/plain": [
       "837.6214149088376"
      ]
     },
     "execution_count": 10,
     "metadata": {},
     "output_type": "execute_result"
    }
   ],
   "source": [
    "grid_result = (df_12['counts']*df_field_grid['B']).sum()/(df_12['counts'].sum())\n",
    "grid_result"
   ]
  },
  {
   "cell_type": "markdown",
   "metadata": {},
   "source": [
    "There you have it!\n",
    "\n",
    "Now try the moments tutorial"
   ]
  },
  {
   "cell_type": "code",
   "execution_count": null,
   "metadata": {},
   "outputs": [],
   "source": []
  }
 ],
 "metadata": {
  "kernelspec": {
   "display_name": "Python 3",
   "language": "python",
   "name": "python3"
  },
  "language_info": {
   "codemirror_mode": {
    "name": "ipython",
    "version": 3
   },
   "file_extension": ".py",
   "mimetype": "text/x-python",
   "name": "python",
   "nbconvert_exporter": "python",
   "pygments_lexer": "ipython3",
   "version": "3.7.3"
  }
 },
 "nbformat": 4,
 "nbformat_minor": 2
}
