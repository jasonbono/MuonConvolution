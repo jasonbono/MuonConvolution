{
 "cells": [
  {
   "cell_type": "markdown",
   "metadata": {},
   "source": [
    "# 1 Getting and formatting the data"
   ]
  },
  {
   "cell_type": "code",
   "execution_count": 147,
   "metadata": {},
   "outputs": [],
   "source": [
    "import sys\n",
    "sys.path.append('/Users/bono/Desktop/gm2FieldAnalysis/MuonConvolution/muon_info')\n",
    "from simple_ctags import get_ctags\n",
    "import pandas as pd"
   ]
  },
  {
   "cell_type": "code",
   "execution_count": 148,
   "metadata": {},
   "outputs": [
    {
     "data": {
      "text/html": [
       "<div>\n",
       "<style scoped>\n",
       "    .dataframe tbody tr th:only-of-type {\n",
       "        vertical-align: middle;\n",
       "    }\n",
       "\n",
       "    .dataframe tbody tr th {\n",
       "        vertical-align: top;\n",
       "    }\n",
       "\n",
       "    .dataframe thead th {\n",
       "        text-align: right;\n",
       "    }\n",
       "</style>\n",
       "<table border=\"1\" class=\"dataframe\">\n",
       "  <thead>\n",
       "    <tr style=\"text-align: right;\">\n",
       "      <th></th>\n",
       "      <th>ctags</th>\n",
       "    </tr>\n",
       "    <tr>\n",
       "      <th>DateTime</th>\n",
       "      <th></th>\n",
       "    </tr>\n",
       "  </thead>\n",
       "  <tbody>\n",
       "    <tr>\n",
       "      <th>2018-04-22 00:00:26</th>\n",
       "      <td>0</td>\n",
       "    </tr>\n",
       "    <tr>\n",
       "      <th>2018-04-22 00:01:26</th>\n",
       "      <td>0</td>\n",
       "    </tr>\n",
       "    <tr>\n",
       "      <th>2018-04-22 00:02:26</th>\n",
       "      <td>0</td>\n",
       "    </tr>\n",
       "    <tr>\n",
       "      <th>2018-04-22 00:03:26</th>\n",
       "      <td>0</td>\n",
       "    </tr>\n",
       "    <tr>\n",
       "      <th>2018-04-22 00:04:26</th>\n",
       "      <td>0</td>\n",
       "    </tr>\n",
       "  </tbody>\n",
       "</table>\n",
       "</div>"
      ],
      "text/plain": [
       "                     ctags\n",
       "DateTime                  \n",
       "2018-04-22 00:00:26      0\n",
       "2018-04-22 00:01:26      0\n",
       "2018-04-22 00:02:26      0\n",
       "2018-04-22 00:03:26      0\n",
       "2018-04-22 00:04:26      0"
      ]
     },
     "execution_count": 148,
     "metadata": {},
     "output_type": "execute_result"
    }
   ],
   "source": [
    "#Get the muons data\n",
    "data = get_ctags(\"2018-04-22 00:00:00\", \"2018-04-25 00:00:00\",'localhost')\n",
    "df_muons = pd.DataFrame.from_dict(data, orient=\"index\",columns=['ctags'])\n",
    "df_muons.index.name = 'DateTime'\n",
    "df_muons.index = pd.to_datetime(df_muons.index)\n",
    "df_muons = df_muons.sort_values(by=['DateTime'])\n",
    "df_muons.head()"
   ]
  },
  {
   "cell_type": "code",
   "execution_count": 149,
   "metadata": {},
   "outputs": [
    {
     "data": {
      "text/html": [
       "<div>\n",
       "<style scoped>\n",
       "    .dataframe tbody tr th:only-of-type {\n",
       "        vertical-align: middle;\n",
       "    }\n",
       "\n",
       "    .dataframe tbody tr th {\n",
       "        vertical-align: top;\n",
       "    }\n",
       "\n",
       "    .dataframe thead th {\n",
       "        text-align: right;\n",
       "    }\n",
       "</style>\n",
       "<table border=\"1\" class=\"dataframe\">\n",
       "  <thead>\n",
       "    <tr style=\"text-align: right;\">\n",
       "      <th></th>\n",
       "      <th>D</th>\n",
       "      <th>eD</th>\n",
       "      <th>NQ</th>\n",
       "      <th>eNQ</th>\n",
       "      <th>SQ</th>\n",
       "      <th>eSQ</th>\n",
       "      <th>NS</th>\n",
       "      <th>eNS</th>\n",
       "    </tr>\n",
       "    <tr>\n",
       "      <th>DateTime</th>\n",
       "      <th></th>\n",
       "      <th></th>\n",
       "      <th></th>\n",
       "      <th></th>\n",
       "      <th></th>\n",
       "      <th></th>\n",
       "      <th></th>\n",
       "      <th></th>\n",
       "    </tr>\n",
       "  </thead>\n",
       "  <tbody>\n",
       "    <tr>\n",
       "      <th>2018-04-22 07:49:38</th>\n",
       "      <td>841.787</td>\n",
       "      <td>0.046244</td>\n",
       "      <td>0.127854</td>\n",
       "      <td>0.087027</td>\n",
       "      <td>-5.708530e+55</td>\n",
       "      <td>0.028346</td>\n",
       "      <td>-1.16032</td>\n",
       "      <td>0.028019</td>\n",
       "    </tr>\n",
       "    <tr>\n",
       "      <th>2018-04-22 07:49:48</th>\n",
       "      <td>841.814</td>\n",
       "      <td>0.046244</td>\n",
       "      <td>0.130324</td>\n",
       "      <td>0.087027</td>\n",
       "      <td>-5.724380e+55</td>\n",
       "      <td>0.028346</td>\n",
       "      <td>-1.16032</td>\n",
       "      <td>0.028019</td>\n",
       "    </tr>\n",
       "    <tr>\n",
       "      <th>2018-04-22 07:49:58</th>\n",
       "      <td>841.846</td>\n",
       "      <td>0.046244</td>\n",
       "      <td>0.135336</td>\n",
       "      <td>0.087027</td>\n",
       "      <td>-5.740240e+55</td>\n",
       "      <td>0.028346</td>\n",
       "      <td>-1.16032</td>\n",
       "      <td>0.028019</td>\n",
       "    </tr>\n",
       "    <tr>\n",
       "      <th>2018-04-22 07:50:08</th>\n",
       "      <td>841.864</td>\n",
       "      <td>0.046244</td>\n",
       "      <td>0.139565</td>\n",
       "      <td>0.087027</td>\n",
       "      <td>-5.756100e+55</td>\n",
       "      <td>0.028346</td>\n",
       "      <td>-1.16033</td>\n",
       "      <td>0.028019</td>\n",
       "    </tr>\n",
       "    <tr>\n",
       "      <th>2018-04-22 07:50:18</th>\n",
       "      <td>841.869</td>\n",
       "      <td>0.046244</td>\n",
       "      <td>0.127626</td>\n",
       "      <td>0.087027</td>\n",
       "      <td>-5.771950e+55</td>\n",
       "      <td>0.028346</td>\n",
       "      <td>-1.16033</td>\n",
       "      <td>0.028019</td>\n",
       "    </tr>\n",
       "  </tbody>\n",
       "</table>\n",
       "</div>"
      ],
      "text/plain": [
       "                           D        eD        NQ       eNQ            SQ  \\\n",
       "DateTime                                                                   \n",
       "2018-04-22 07:49:38  841.787  0.046244  0.127854  0.087027 -5.708530e+55   \n",
       "2018-04-22 07:49:48  841.814  0.046244  0.130324  0.087027 -5.724380e+55   \n",
       "2018-04-22 07:49:58  841.846  0.046244  0.135336  0.087027 -5.740240e+55   \n",
       "2018-04-22 07:50:08  841.864  0.046244  0.139565  0.087027 -5.756100e+55   \n",
       "2018-04-22 07:50:18  841.869  0.046244  0.127626  0.087027 -5.771950e+55   \n",
       "\n",
       "                          eSQ       NS       eNS  \n",
       "DateTime                                          \n",
       "2018-04-22 07:49:38  0.028346 -1.16032  0.028019  \n",
       "2018-04-22 07:49:48  0.028346 -1.16032  0.028019  \n",
       "2018-04-22 07:49:58  0.028346 -1.16032  0.028019  \n",
       "2018-04-22 07:50:08  0.028346 -1.16033  0.028019  \n",
       "2018-04-22 07:50:18  0.028346 -1.16033  0.028019  "
      ]
     },
     "execution_count": 149,
     "metadata": {},
     "output_type": "execute_result"
    }
   ],
   "source": [
    "#Get the field data\n",
    "path = \"../field_info/\"\n",
    "file = \"60Hr_Average_Comparison_all_3956_3997_norescut.txt\"\n",
    "file = path + file\n",
    "df_field = pd.read_csv(file, sep=\" \", header=None)\n",
    "df_field.columns = [\"EpochTime\", \"D\", \"eD\",\n",
    "                    \"NQ\", \"eNQ\",\"SQ\", \"eSQ\",\n",
    "                    \"NS\", \"eNS\"]\n",
    "df_field['DateTime'] = pd.to_datetime(df_field['EpochTime'],unit='s')\n",
    "df_field = df_field.set_index('DateTime')\n",
    "del df_field['EpochTime']\n",
    "df_field.head()"
   ]
  },
  {
   "cell_type": "code",
   "execution_count": 152,
   "metadata": {},
   "outputs": [
    {
     "data": {
      "text/html": [
       "<div>\n",
       "<style scoped>\n",
       "    .dataframe tbody tr th:only-of-type {\n",
       "        vertical-align: middle;\n",
       "    }\n",
       "\n",
       "    .dataframe tbody tr th {\n",
       "        vertical-align: top;\n",
       "    }\n",
       "\n",
       "    .dataframe thead th {\n",
       "        text-align: right;\n",
       "    }\n",
       "</style>\n",
       "<table border=\"1\" class=\"dataframe\">\n",
       "  <thead>\n",
       "    <tr style=\"text-align: right;\">\n",
       "      <th></th>\n",
       "      <th>radial</th>\n",
       "      <th>vertical</th>\n",
       "      <th>counts</th>\n",
       "      <th>Station</th>\n",
       "    </tr>\n",
       "    <tr>\n",
       "      <th>index</th>\n",
       "      <th></th>\n",
       "      <th></th>\n",
       "      <th></th>\n",
       "      <th></th>\n",
       "    </tr>\n",
       "  </thead>\n",
       "  <tbody>\n",
       "    <tr>\n",
       "      <th>2</th>\n",
       "      <td>-59</td>\n",
       "      <td>-59</td>\n",
       "      <td>0</td>\n",
       "      <td>station12</td>\n",
       "    </tr>\n",
       "    <tr>\n",
       "      <th>3</th>\n",
       "      <td>-59</td>\n",
       "      <td>-57</td>\n",
       "      <td>0</td>\n",
       "      <td>station12</td>\n",
       "    </tr>\n",
       "    <tr>\n",
       "      <th>4</th>\n",
       "      <td>-59</td>\n",
       "      <td>-55</td>\n",
       "      <td>0</td>\n",
       "      <td>station12</td>\n",
       "    </tr>\n",
       "    <tr>\n",
       "      <th>5</th>\n",
       "      <td>-59</td>\n",
       "      <td>-53</td>\n",
       "      <td>0</td>\n",
       "      <td>station12</td>\n",
       "    </tr>\n",
       "    <tr>\n",
       "      <th>6</th>\n",
       "      <td>-59</td>\n",
       "      <td>-51</td>\n",
       "      <td>0</td>\n",
       "      <td>station12</td>\n",
       "    </tr>\n",
       "  </tbody>\n",
       "</table>\n",
       "</div>"
      ],
      "text/plain": [
       "      radial vertical counts    Station\n",
       "index                                  \n",
       "2        -59      -59      0  station12\n",
       "3        -59      -57      0  station12\n",
       "4        -59      -55      0  station12\n",
       "5        -59      -53      0  station12\n",
       "6        -59      -51      0  station12"
      ]
     },
     "execution_count": 152,
     "metadata": {},
     "output_type": "execute_result"
    }
   ],
   "source": [
    "#Get the tracker data\n",
    "import numpy as np\n",
    "path = \"../tracker_info/\"\n",
    "file = \"beamSpot.txt\"\n",
    "file = path + file\n",
    "names=['radial', 'vertical', 'counts']\n",
    "df_tracker = pd.read_csv(file, sep=\" \",names=names)\n",
    "df_tracker.index.name = 'index'\n",
    "\n",
    "#Make a 'Station' column to keep a record of where the readings came from\n",
    "sub ='station'\n",
    "mask = df_tracker[\"vertical\"].str.find(sub) != -1\n",
    "df_tracker[mask]\n",
    "df_tracker['Station'] = df_tracker[mask]['vertical']\n",
    "df_tracker['Station'] = df_tracker['Station'].fillna(method='ffill')\n",
    "df_tracker.head()\n",
    "\n",
    "#clean the data by removing all rows with non numeric radial values\n",
    "df_tracker = df_tracker[pd.to_numeric(df_tracker['radial'], errors='coerce').notnull()]\n",
    "df_tracker.head()"
   ]
  },
  {
   "cell_type": "code",
   "execution_count": null,
   "metadata": {},
   "outputs": [],
   "source": []
  },
  {
   "cell_type": "code",
   "execution_count": null,
   "metadata": {},
   "outputs": [],
   "source": []
  },
  {
   "cell_type": "code",
   "execution_count": null,
   "metadata": {},
   "outputs": [],
   "source": []
  },
  {
   "cell_type": "code",
   "execution_count": null,
   "metadata": {},
   "outputs": [],
   "source": []
  },
  {
   "cell_type": "markdown",
   "metadata": {},
   "source": [
    "# Preparing the data"
   ]
  },
  {
   "cell_type": "code",
   "execution_count": 10,
   "metadata": {},
   "outputs": [],
   "source": [
    "#store the original sample rate for both dataframes\n",
    "muons_time_interval = (df_muons.index.values[1].astype('int64')\n",
    "                      - df_muons.index.values[0].astype('int64'))//1e9\n",
    "field_time_interval = (df_field.index.values[1].astype('int64')\n",
    "                      - df_field.index.values[0].astype('int64'))//1e9\n",
    "\n",
    "#upsample each dataframe to 1 second                      \n",
    "df_muons = df_muons.resample('1S').ffill()\n",
    "df_field = df_field.resample('1S').ffill()"
   ]
  },
  {
   "cell_type": "code",
   "execution_count": 11,
   "metadata": {},
   "outputs": [],
   "source": [
    "df_total = df_field.join(df_muons)\n",
    "df_total = df_total.fillna(0)\n",
    "factor = 1/float(muons_time_interval)\n",
    "df_total['ctags_per_second'] = df_total['ctags'].astype(float)*factor"
   ]
  },
  {
   "cell_type": "code",
   "execution_count": null,
   "metadata": {},
   "outputs": [],
   "source": []
  },
  {
   "cell_type": "markdown",
   "metadata": {},
   "source": [
    "# c weighted average"
   ]
  },
  {
   "cell_type": "code",
   "execution_count": null,
   "metadata": {},
   "outputs": [],
   "source": [
    "def ctag_field_weighting(start_time,stop_time,df,b='D'):\n",
    "    \"\"\"\n",
    "    'b' is the field moment that you want \n",
    "    to apply the ctag weighting on\n",
    "    \"\"\"\n",
    "   \n",
    "    #first set up some variables\n",
    "    eb = \"e\" + b #the error on the specified moment\n",
    "    \n",
    "    #format the input\n",
    "    start_time = pd.to_datetime(start_time)\n",
    "    stop_time = pd.to_datetime(stop_time)\n",
    "    #select times within the specified range\n",
    "    mask = ( (df.index >= start_time) & (df.index <= stop_time))\n",
    "    df = df[mask]\n",
    "    \n",
    "    #get a series of *cumulative* ctags\n",
    "    s_ctags = df['ctags'].cumsum()\n",
    "    #get a series of *cumulative* products\n",
    "    s_avg = (df[b]*df['ctags']).cumsum()\n",
    "    #divide the *cumulative* products by the cumulative ctags, to get the cumulative ctag weighted average\n",
    "    s_avg = s_avg/s_ctags\n",
    "    #get the flat average (or the time average) of the field\n",
    "    s_time_avg = df[b].expanding().mean()\n",
    "    \n",
    "    #combine the series into a df and return it\n",
    "    all_series = [df['ctags'],s_ctags,s_avg,s_time_avg]\n",
    "    df_new = pd.concat(all_series, axis=1)\n",
    "    df_new.columns = ['new_ctags','ctags','muon_weighted_field','time_averaged_field']\n",
    "    return df_new\n",
    "    "
   ]
  },
  {
   "cell_type": "code",
   "execution_count": null,
   "metadata": {},
   "outputs": [],
   "source": []
  },
  {
   "cell_type": "code",
   "execution_count": null,
   "metadata": {},
   "outputs": [],
   "source": [
    "t1 = 'april 10 2018  6:30pm'\n",
    "t2 = \"april 30 2018  6:30pm and 50 seconds\"\n",
    "df_new = convolve_better(t1,t2,df_total)"
   ]
  },
  {
   "cell_type": "code",
   "execution_count": null,
   "metadata": {},
   "outputs": [],
   "source": []
  },
  {
   "cell_type": "code",
   "execution_count": null,
   "metadata": {},
   "outputs": [],
   "source": [
    "# mpld3.disable_notebook()\n",
    "df_new[['muon_weighted_field','time_averaged_field']].fillna(method='ffill').plot(figsize=(12,6))\n",
    "print(df_new)\n"
   ]
  },
  {
   "cell_type": "code",
   "execution_count": null,
   "metadata": {},
   "outputs": [],
   "source": [
    "# mpld3.disable_notebook()\n",
    "(df_new['time_averaged_field'] - df_new['muon_weighted_field']).fillna(method='ffill').plot(figsize=(12,6))"
   ]
  },
  {
   "cell_type": "markdown",
   "metadata": {},
   "source": [
    "## Note that you  can make charts with plotly without slowing down the notebook by:\n",
    "\n",
    "### 1 using fig.show(config={'staticPlot':True}), with the usual plotly.express.scatter"
   ]
  },
  {
   "cell_type": "code",
   "execution_count": null,
   "metadata": {},
   "outputs": [],
   "source": [
    "import plotly.express as px\n",
    "# Make a fig with plotly express \n",
    "fig = px.scatter(df_new.reset_index(), \n",
    "                 x=\"DateTime\", \n",
    "                 y=\"muon_weighted_field\")\n",
    "#note that add_scatter doesn’t have the same “data frame + column names”\n",
    "# API as Plotly Express, so it's called differently. \n",
    "# Note that add_scatter does allow for mixing of dfs, however...\n",
    "# Also note, in the plot below, that add_scatter introduces some inconvient plot formatting defaults\n",
    "fig.add_scatter(x=df_new.index, y=df_new['time_averaged_field'])\n",
    "\n",
    "#The config={'staticPlot':True} option helps keep things running faster\n",
    "fig.show(config={'staticPlot':True})"
   ]
  },
  {
   "cell_type": "markdown",
   "metadata": {},
   "source": [
    "### or 2, using plotly.graph_objects.Scattergl (instead of Scatter), which plots online using WebGL"
   ]
  },
  {
   "cell_type": "code",
   "execution_count": null,
   "metadata": {},
   "outputs": [],
   "source": [
    "import plotly.graph_objects as go\n",
    "data = (df_new['time_averaged_field'] - \n",
    "        df_new['muon_weighted_field']).values\n",
    "fig = go.Figure(data=go.Scattergl(y=data, mode='markers'))\n",
    "fig.show()\n"
   ]
  },
  {
   "cell_type": "markdown",
   "metadata": {},
   "source": [
    "## Note that the above results can easily be resampled with \n",
    "> resample('some value')).mean()\n",
    "\n",
    "or\n",
    "\n",
    "\n",
    "> resample('some value')).sum()\n",
    "\n",
    "etc, depending on the type of quantity\n",
    "\n"
   ]
  },
  {
   "cell_type": "code",
   "execution_count": null,
   "metadata": {},
   "outputs": [],
   "source": [
    "data = ((df_new['time_averaged_field'] -\n",
    "         df_new['muon_weighted_field']).resample('H')).mean().values\n",
    "# data\n",
    "fig = go.Figure(data=go.Scattergl(y=data, mode='markers'))\n",
    "fig.show()"
   ]
  },
  {
   "cell_type": "code",
   "execution_count": null,
   "metadata": {},
   "outputs": [],
   "source": [
    "df_new.head()"
   ]
  },
  {
   "cell_type": "code",
   "execution_count": null,
   "metadata": {},
   "outputs": [],
   "source": []
  },
  {
   "cell_type": "code",
   "execution_count": null,
   "metadata": {},
   "outputs": [],
   "source": [
    "df_new['diff'] =  df_new['time_averaged_field'] - df_new['muon_weighted_field']\n",
    "data1 = df_new['diff'].resample('20min').mean()\n",
    "data1_max = (data1.max())\n",
    "data2 = df_new['new_ctags'].resample('20min').sum()\n",
    "data2 = data1_max*(data2)/(data2.max())\n",
    "data3 = df_new['ctags'].resample('20min').sum()\n",
    "data3 = data1_max*(data3)/(data3.max())"
   ]
  },
  {
   "cell_type": "code",
   "execution_count": null,
   "metadata": {},
   "outputs": [],
   "source": [
    "#just a throw-away line to declare fig\n",
    "fig = px.scatter(df_new)\n",
    "#The two traces\n",
    "fig.add_scatter(x=df_new.index, y=data1,mode='markers', name='field diff' )\n",
    "fig.add_scatter(x=df_new.index, y=data2,mode='markers', name='ctags')\n",
    "fig.add_scatter(x=df_new.index, y=data3, mode='markers', name='total ctags')\n",
    "#plot non-interactivly\n",
    "fig.show(config={'staticPlot':True})"
   ]
  },
  {
   "cell_type": "markdown",
   "metadata": {},
   "source": []
  },
  {
   "cell_type": "code",
   "execution_count": null,
   "metadata": {},
   "outputs": [],
   "source": [
    "fig.update_layout(\n",
    "    title=go.layout.Title(\n",
    "        text=\"\",\n",
    "        x=0\n",
    "    ),\n",
    "    xaxis=go.layout.XAxis(\n",
    "        title=go.layout.xaxis.Title(\n",
    "            text=\"Time\",\n",
    "            font=dict(\n",
    "                family=\"Courier New, monospace\",\n",
    "                size=18,\n",
    "                color=\"#7f7f7f\"\n",
    "            )\n",
    "        )\n",
    "    ),\n",
    "    yaxis=go.layout.YAxis(\n",
    "        title=go.layout.yaxis.Title(\n",
    "            text=\"ppm\",\n",
    "            font=dict(\n",
    "                family=\"Courier New, monospace\",\n",
    "                size=18,\n",
    "                color=\"#7f7f7f\"\n",
    "            )\n",
    "        )\n",
    "    )\n",
    ")\n",
    "fig.show()"
   ]
  },
  {
   "cell_type": "code",
   "execution_count": null,
   "metadata": {},
   "outputs": [],
   "source": []
  },
  {
   "cell_type": "code",
   "execution_count": null,
   "metadata": {},
   "outputs": [],
   "source": []
  },
  {
   "cell_type": "code",
   "execution_count": null,
   "metadata": {},
   "outputs": [],
   "source": []
  },
  {
   "cell_type": "code",
   "execution_count": null,
   "metadata": {},
   "outputs": [],
   "source": []
  }
 ],
 "metadata": {
  "kernelspec": {
   "display_name": "Python 3",
   "language": "python",
   "name": "python3"
  },
  "language_info": {
   "codemirror_mode": {
    "name": "ipython",
    "version": 3
   },
   "file_extension": ".py",
   "mimetype": "text/x-python",
   "name": "python",
   "nbconvert_exporter": "python",
   "pygments_lexer": "ipython3",
   "version": "3.7.3"
  }
 },
 "nbformat": 4,
 "nbformat_minor": 4
}
