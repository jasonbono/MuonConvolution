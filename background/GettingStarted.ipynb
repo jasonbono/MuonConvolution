{
 "cells": [
  {
   "cell_type": "markdown",
   "metadata": {},
   "source": [
    "# 1. Getting Connected"
   ]
  },
  {
   "cell_type": "markdown",
   "metadata": {},
   "source": [
    "__Copy the following function, from saskia, into your bash_profile:__\n",
    "\n",
    "\n",
    "    function fnal_proxy {\n",
    "\n",
    "\n",
    "    echo \"MAIN DQM http://localhost:3333 --> g2be2:3333\"\n",
    "    echo \"TEST DQM http://localhost:3334 --> g2be2:4999\"\n",
    "    echo \"MAIN MIDAS : http://localhost:8080 --> g2be1:8080\"\n",
    "    echo \"MAIN OPERATIONS : http://localhost:8888 --> g2sc:80\"\n",
    "    echo \" \"\n",
    "    echo \"FTS http://localhost:8787 --> g2be3:8787/fts/status\"\n",
    "    echo \" \"\n",
    "    echo \"CCC : http://localhost:6003 --> g2web:7000\"\n",
    "    echo \"CCC-JSON : http://localhost:6004 --> g2web:7001\"\n",
    "    echo \"CALO SLOW CONTROL http://localhost:4999 --> g2sc:5000\"\n",
    "    echo \" \"\n",
    "    echo \"G2TRACKER0 MIDAS : http://localhost:8181 --> g2tracker0:8080\"\n",
    "    echo \"GM2LIV DQM CLIENT : http://localhost:3434 --> gm2liv-priv:3344\"\n",
    "    echo \"TRACKER WEB MONITOR : http://localhost:5001 --> g2tracker0-priv:5002\"\n",
    "    echo \" \"\n",
    "    echo \"EFFICIENCY/POT : http://localhost:6002 --> g2web:5002\"\n",
    "    echo \" \"\n",
    "    echo \"ONLINE PSQL DB: psql -U gm2_writer -d gm2_online_prod -h localhost -p 5434\"\n",
    "    echo \"\"\n",
    "    echo \"SRV : http://localhost:8989 --> gm2-01.dhcp.fnal.gov:80\"\n",
    "    echo \"G2DB : http://localhost:9002 --> g2db:9002\"\n",
    "\n",
    "    ssh -nNT -L 9005:192.168.30.65:80 -L 6004:g2web:7001 -L 6003:g2web:7000 -L 6002:g2web:5002 -L 4999:g2sc:500 -L 3332:g2field-be:8080 -L 3331:g2field-be:3335 -L 3333:g2be2:3333 -L 3334:g2be2:4999 -L 8787:g2be3:8787 -L 8080:g2be1:8080 -o GSSAPIAuthentication=yes G2Muon@g2gateway01.fnal.gov -L 8888:g2sc:80 -L 3434:gm2liv-priv:3344 -L 8181:g2tracker0-priv:8080 -L 5001:g2tracker0-priv:5002 -L 8989:gm2-01.dhcp.fnal.gov:80 -L 5434:192.168.30.51:5433 -L 9002:g2db:9002 -L 9003:192.168.22.79:80 -L 9004:192.168.22.79:81\n",
    "\n",
    "    }"
   ]
  },
  {
   "cell_type": "markdown",
   "metadata": {},
   "source": [
    "__in a terminal, connect to the database with:__\n",
    "\n",
    "    fnal_proxy"
   ]
  },
  {
   "cell_type": "markdown",
   "metadata": {},
   "source": [
    "__run psql (if not already installed, do so using brew)__\n",
    "\n",
    "    psql -U gm2_reader -d gm2_online_prod -h localhost -p 5434\n",
    "\n",
    "\n",
    "__Within gm2_online_prod, to display ctags and time, do:__\n",
    "\n",
    "    select * from gm2ctag_dqm limit 10;\n",
    "    \n",
    "__You can order by time, for example, by doing__\n",
    "\n",
    "    select * from gm2ctag_dqm order by time ASC limit 10;\n",
    "\n",
    "__to quit psql, run__\n",
    "\n",
    "    \\q"
   ]
  },
  {
   "cell_type": "markdown",
   "metadata": {},
   "source": [
    "# 2. Reading ctags with python"
   ]
  },
  {
   "cell_type": "markdown",
   "metadata": {},
   "source": [
    "__Run a demo script with python (the brew install on my home computer)__\n",
    "\n",
    "    /usr/local/bin/python3.7 GetCtagsInTimeRange.py --db=localhost"
   ]
  },
  {
   "cell_type": "markdown",
   "metadata": {},
   "source": [
    "# 3. Reading ctags with  Jupyter\n",
    "__The following few lines of code shows how to__\n",
    "* import a simple function to connect to the database to get muon info such as\n",
    "    * time\n",
    "    * ctags\n"
   ]
  },
  {
   "cell_type": "code",
   "execution_count": null,
   "metadata": {},
   "outputs": [],
   "source": [
    "import sys\n",
    "sys.path.append('/Users/bono/Desktop/gm2FieldAnalysis/MuonConvolution/muon_info')\n",
    "from simple_ctags import get_ctags\n",
    "import pandas as pd"
   ]
  },
  {
   "cell_type": "code",
   "execution_count": null,
   "metadata": {},
   "outputs": [],
   "source": [
    "data = get_ctags(\"2018-04-22 00:00:00\", \"2018-04-25 00:00:00\",'localhost')\n",
    "df_muons = pd.DataFrame.from_dict(data, orient=\"index\",columns=['ctags'])\n",
    "\n",
    "df_muons.index.name = 'DateTime'\n",
    "df_muons.index = pd.to_datetime(df_muons.index)\n",
    "df_muons = df_muons.sort_values(by=['DateTime'])\n",
    "# df_muons['EpochTime'] = df_muons.index.astype('int64')//1e9\n",
    "print(df_muons.head())"
   ]
  },
  {
   "cell_type": "code",
   "execution_count": null,
   "metadata": {},
   "outputs": [],
   "source": [
    "# import mpld3\n",
    "# mpld3.enable_notebook()\n",
    "# mpld3.disable_notebook()\n",
    "df_muons.plot(figsize=(12,6))"
   ]
  },
  {
   "cell_type": "markdown",
   "metadata": {},
   "source": [
    "# 4. Reading field info with Jupyter\n",
    "__The following few lines of code shows how to__\n",
    "* read in a text file from the field team to get\n",
    "    * time\n",
    "    * various multipole moments and their uncertainties"
   ]
  },
  {
   "cell_type": "code",
   "execution_count": null,
   "metadata": {},
   "outputs": [],
   "source": [
    "path = \"/Users/bono/Desktop/gm2FieldAnalysis/MuonConvolution/field_info/\"\n",
    "file = \"60Hr_Average_Comparison_all_3956_3997_norescut.txt\"\n",
    "file = path + file\n",
    "df_field = pd.read_csv(file, sep=\" \", header=None)\n",
    "df_field.columns = [\"EpochTime\", \"D\", \"eD\",\n",
    "                    \"NQ\", \"eNQ\",\"SQ\", \"eSQ\",\n",
    "                    \"NS\", \"eNS\"]\n",
    "df_field['DateTime'] = pd.to_datetime(df_field['EpochTime'],unit='s')\n",
    "df_field = df_field.set_index('DateTime')\n",
    "del df_field['EpochTime']\n",
    "print(df_field.head())\n"
   ]
  },
  {
   "cell_type": "code",
   "execution_count": null,
   "metadata": {},
   "outputs": [],
   "source": [
    "df_field.plot(y='D',figsize=(12,6))"
   ]
  },
  {
   "cell_type": "markdown",
   "metadata": {},
   "source": [
    "# 5. A simple muon convolution\n",
    "\n",
    "## 5a. The calculation\n",
    "\n",
    "__Average field:__\n",
    "\n",
    "We want the average B field experienced by the muons\n",
    "\n",
    "\\begin{equation}\n",
    "\\left\\langle \\textbf{B} \\right\\rangle = \\textbf{B}(\\textbf{x},T) \\otimes M(\\textbf{x},T)\n",
    "\\end{equation}\n",
    "\n",
    "This invloves convolving the spacial and time structure of the muon beam and the B field. The spacial structures can be expressed as multipole expantions. The average expierienced B field can then be expressed as the sum of products of the moments\n",
    "\n",
    "\\begin{equation}\n",
    "\\left\\langle \\textbf{B} \\right\\rangle = \\Sigma_i b_{i} \\otimes m_{i}\n",
    "\\end{equation}\n",
    "\n",
    "where the time structure has been made implicit. Call $t$ a time interval that is sufficiently small so that the spacial structure is effectivly constant. We can then factorize the convolution with\n",
    "\n",
    "\\begin{equation}\n",
    "b_{i} \\otimes m_{i} = \\Sigma_t \\frac{b_i(t)*m_i(t)}{\\Sigma_t t} \\equiv \\Sigma_t \\frac{p_i(t)}{\\Sigma_t t} = \\bar{p}_{i}\n",
    "\\end{equation}\n",
    "\n",
    "Where we denote the time average of the quantity, $p$, as $\\bar{p}$. We now can write \n",
    "\n",
    "\\begin{equation}\n",
    "\\boxed{\\left\\langle \\textbf{B} \\right\\rangle = \\Sigma_{i} \\bar{p}_{i}}\n",
    "\\end{equation}\n",
    "\n",
    "\n",
    "\n",
    "\n",
    "\n",
    "\n",
    "\n",
    "\n"
   ]
  },
  {
   "cell_type": "markdown",
   "metadata": {},
   "source": [
    "__Error on average field:__\n",
    "\n",
    "Assuming that the error in the muon and field structures are uncorrelated, and that the error in time measurements are zero, the error in the ith moment is\n",
    "\n",
    "\\begin{equation}\n",
    "\\Delta B_i \\equiv \\frac{dB_i}{db_i}\\Delta b_i + \\frac{dB_i}{dm_i}\\Delta m_i = \\frac{\\Sigma_t m_i(t)}{\\Sigma_t t} \\Delta b_i + \\frac{\\Sigma_t b_i(t)}{\\Sigma_t t} \\Delta m_i\n",
    "\\end{equation}\n",
    "\n",
    "or, more succinctly,\n",
    "\n",
    "\\begin{equation}\n",
    "\\boxed{\\Delta B_i = \\bar{m}_i \\Delta b_i + \\bar{b}_i \\Delta m_i}\n",
    "\\end{equation}\n",
    "\n",
    "To get the total error on the muon convoluted B field, we sum the errors\n",
    "\n",
    "\\begin{equation}\n",
    "\\boxed{\\Delta \\left\\langle \\textbf{B} \\right\\rangle \n",
    "    = \\Sigma_{i} (\\bar{m}_i \\Delta b_i + \\bar{b}_i \\Delta m_i)}\n",
    "\\end{equation}\n",
    "\n",
    "Finally, we seek to calculate\n",
    "\\begin{equation}\n",
    "\\boxed{ \\left\\langle \\textbf{B} \\right\\rangle  +  (\\Delta \\left\\langle \\textbf{B} \\right\\rangle) \n",
    "    = \\Sigma_{i}[ p_i + (\\bar{m}_i \\Delta b_i + \\bar{b}_i \\Delta m_i)} ]\n",
    "\\end{equation}\n",
    "\n",
    "\n",
    "\n",
    "\n",
    "(Note that $m_i$ and $\\Delta m_i$ come from the average beam position and RMS, as determined by the beam dynamics team, while $b_i$ and $\\Delta b_i$ are the B-field multipole moments and their error, as determined by the field team)\n"
   ]
  },
  {
   "cell_type": "markdown",
   "metadata": {},
   "source": [
    "__Calculation for a single moment__\n",
    "\n",
    "For any given moment we have\n",
    "\n",
    "\\begin{equation}\n",
    "B_i \\pm (\\Delta B_i) = \\bar{p}_{i} \\pm (\\bar{m}_i \\Delta b_i + \\bar{b}_i \\Delta m_i)\n",
    "\\end{equation}\n",
    "\n",
    "Note that the ith muon moment, $m_i(t)$, is expressed as a dimensionless muliplicitive factor, representing spacial structure, times the muon populaton.\n",
    "\n",
    "\\begin{equation}\n",
    "m_i(t) = s(t)*c(t) \n",
    "\\end{equation}\n",
    "\n",
    "\n",
    "\n",
    "\n"
   ]
  },
  {
   "cell_type": "markdown",
   "metadata": {},
   "source": [
    "__Calculation for the dipole moment__\n",
    "\n",
    "The first moment is the dipole, which we will calculate by making the folling substutuions\n",
    "\n",
    "\\begin{equation}\n",
    "b_1(t) \\to D(t) \n",
    "\\end{equation}\n",
    "\n",
    "\\begin{equation}\n",
    "\\Delta b_1(t) \\to \\Delta D(t)\n",
    "\\end{equation}\n",
    "  \n",
    "\\begin{equation}\n",
    "m_1(t) \\to \\text{c}(t)\n",
    "\\end{equation}\n",
    "\n",
    "  \n",
    "\\begin{equation}\n",
    "\\Delta m_1(t) \\to \\Delta \\text{c}(t)\n",
    "\\end{equation}\n",
    "\n",
    "\n",
    "Explitly, we want to calculate the \"averaged\" dipole and its error\n",
    "\n",
    "\\begin{equation}\n",
    "\\boxed{ \\left\\langle \\textbf{D} \\right\\rangle = \n",
    "\\frac{\\Sigma_t D_t * c_t}{\\Sigma_t c_t} \n",
    "}\n",
    "\\end{equation}\n",
    "\n",
    "asdf\n",
    "\n",
    "\\begin{equation}\n",
    "\\boxed{ \n",
    "\\Delta \\left\\langle \\textbf{D} \\right\\rangle = \n",
    "\\frac{\\Sigma_t c_t}{\\Sigma_t t} \\Delta D + \n",
    "\\frac{\\Sigma_t D_t}{\\Sigma_t t} \\Delta c\n",
    "}\n",
    "\\end{equation}"
   ]
  },
  {
   "cell_type": "markdown",
   "metadata": {},
   "source": [
    "## 5b. The approach \n",
    "__The overall goal here is to find the ctag weighted dipole field that the muons experience. This can be done by__\n",
    "* synchronizing sampling rate and phase\n",
    "* summing the product dipole of ctag in each time slice\n",
    "* dividing that sum by the total number of ctags in all time slices\n",
    "\n",
    "_We should take care to eliminate scaling artifacts that arise from resampling. For instance, cumulative quantities, such as the total number of muons, have the potential to be artificially scaled by the ratio of the resample and the original sample rate. We will therefore scale cumulative variables by this rato to undo the effect._"
   ]
  },
  {
   "cell_type": "code",
   "execution_count": null,
   "metadata": {},
   "outputs": [],
   "source": [
    "#store the original sample rate for both dataframes\n",
    "muons_time_interval = (df_muons.index.values[1].astype('int64')\n",
    "                      - df_muons.index.values[0].astype('int64'))//1e9\n",
    "field_time_interval = (df_field.index.values[1].astype('int64')\n",
    "                      - df_field.index.values[0].astype('int64'))//1e9\n",
    "\n",
    "#upsample each dataframe to 1 second                      \n",
    "df_muons = df_muons.resample('1S').ffill()\n",
    "df_field = df_field.resample('1S').ffill()"
   ]
  },
  {
   "cell_type": "code",
   "execution_count": null,
   "metadata": {},
   "outputs": [],
   "source": [
    "df_total = df_field.join(df_muons)\n",
    "df_total = df_total.fillna(0)\n",
    "factor = 1/float(muons_time_interval)\n",
    "df_total['ctags_per_second'] = df_total['ctags'].astype(float)*factor"
   ]
  },
  {
   "cell_type": "code",
   "execution_count": null,
   "metadata": {},
   "outputs": [],
   "source": [
    "# mpld3.enable_notebook()\n",
    "df_total.plot(y=['D','ctags'],figsize=(12,6))\n",
    "df_total.plot(y='ctags_per_second',figsize=(12,6))\n",
    "\n",
    "# df_total.plot(y='ctags')"
   ]
  },
  {
   "cell_type": "markdown",
   "metadata": {},
   "source": [
    "__a simple convolution function__"
   ]
  },
  {
   "cell_type": "code",
   "execution_count": null,
   "metadata": {},
   "outputs": [],
   "source": [
    "def convolution(start_time,stop_time,df,ctag_weighting_off=False):\n",
    "    '''\n",
    "    This function gets the ctag-weighted (or flat) average of the dipole field\n",
    "    It takes in a time interval and a dataframe\n",
    "    For every row in the dataframe, two columns (ctag and D) are multiplied. each product is summed\n",
    "    Then that sum is divided by the sum of weights. \n",
    "    This is the defenition of the Weighted Arithmetic Mean\n",
    "    '''\n",
    "    \n",
    "    #format the input\n",
    "    start_time = pd.to_datetime(start_time)\n",
    "    stop_time = pd.to_datetime(stop_time)\n",
    "    #select times within the specified range\n",
    "    mask = ( (df.index >= start_time) & (df.index <= stop_time))\n",
    "    #first get the flat average\n",
    "    flat_avg = float((df[mask]['D']).mean())\n",
    "    #compute the average field experience by the muons\n",
    "    #and how many muons experienced that average field\n",
    "    avg_muon_field = float((df[mask]['D']*df[mask]['ctags']).sum())\n",
    "    total_ctags = float(df[mask]['ctags'].sum())\n",
    "    if (total_ctags > 0):\n",
    "        avg_muon_field = float(avg_muon_field)/float(total_ctags)\n",
    "    else:\n",
    "        avg_muon_field = 0\n",
    "        \n",
    "    if(ctag_weighting_off):\n",
    "        avg_muon_field = flat_avg\n",
    "    \n",
    "    return avg_muon_field, total_ctags"
   ]
  },
  {
   "cell_type": "markdown",
   "metadata": {},
   "source": [
    "__show the effect that ctag weighting has over simple averaging, over some interval__"
   ]
  },
  {
   "cell_type": "code",
   "execution_count": null,
   "metadata": {},
   "outputs": [],
   "source": [
    "t1 = 'april 10 2018  6:30pm'\n",
    "t2 = \"april 30 2018  6:30pm and 50 seconds\"\n",
    "avg_field, total_ctags = convolution(t1,t2,df_total,True)\n",
    "print(avg_field, total_ctags)\n",
    "avg_field, total_ctags = convolution(t1,t2,df_total,False)\n",
    "print(avg_field, total_ctags)"
   ]
  },
  {
   "cell_type": "markdown",
   "metadata": {},
   "source": [
    "## 5c. Plotting the results of the convolution\n",
    "\n",
    "__First we will generate a number of time intervals and plot the difference between flat field averaging and ctag weighted averaging__"
   ]
  },
  {
   "cell_type": "code",
   "execution_count": null,
   "metadata": {},
   "outputs": [],
   "source": [
    "import numpy as np\n",
    "#first generate a sequence of dates\n",
    "t1='2018-04-22 00:00:00'\n",
    "t2s = pd.date_range(\n",
    "    start='2018-04-22 08:00:00',\n",
    "    end='2018-04-25 00:00:00',\n",
    "    freq='H')\n",
    "\n",
    "ctags = np.empty(0)\n",
    "f_avg = np.empty(0)\n",
    "c_avg = np.empty(0)\n",
    "for t2 in t2s:\n",
    "#     c = (convolution(t1,t2,df_total)[0])\n",
    "    c,ctag = (convolution(t1,t2,df_total))\n",
    "    ctags = np.append(ctags,ctag)\n",
    "    c_avg = np.append(c_avg,c)\n",
    "    f = (convolution(t1,t2,df_total,True)[0])\n",
    "    f_avg = np.append(f_avg,f)\n",
    "\n"
   ]
  },
  {
   "cell_type": "code",
   "execution_count": null,
   "metadata": {},
   "outputs": [],
   "source": [
    "d = {'EndTime': t2s, 'FlatAvg': f_avg, 'WeightedAvg': c_avg, 'ctags':ctags}\n",
    "\n",
    "df_avgs = pd.DataFrame(d)\n",
    "df_avgs = df_avgs.set_index('EndTime')\n",
    "df_avgs['Difference'] = df_avgs['FlatAvg'] - df_avgs['WeightedAvg']\n",
    "df_avgs = df_avgs.reset_index()\n",
    "df_avgs['EndTime_epoch'] = df_avgs['EndTime'].astype('int64')//1e9\n",
    "df_avgs = df_avgs.set_index('EndTime')"
   ]
  },
  {
   "cell_type": "code",
   "execution_count": null,
   "metadata": {},
   "outputs": [],
   "source": [
    "df_avgs.plot(x='EndTime_epoch',y='ctags',grid=True,figsize=(12,6),kind='scatter')\n",
    "df_avgs.plot(y=['FlatAvg','WeightedAvg'],grid=True,figsize=(12,6))\n",
    "df_avgs.plot(x='EndTime_epoch',y='Difference',grid=True,figsize=(12,6),kind='scatter')\n",
    "\n",
    "# df_avgs.plot(x='EndTime_epoch',y='WeightedAvg',grid=True,figsize=(12,6),kind='scatter')"
   ]
  },
  {
   "cell_type": "markdown",
   "metadata": {},
   "source": [
    "__Next we will generate a number of time constant intervals and plot the difference between flat field averaging and ctag weighted averaging in each interval__"
   ]
  },
  {
   "cell_type": "code",
   "execution_count": null,
   "metadata": {},
   "outputs": [],
   "source": [
    "import pandas as pd\n",
    "import matplotlib.pyplot as plt\n",
    "import numpy as np"
   ]
  },
  {
   "cell_type": "code",
   "execution_count": null,
   "metadata": {},
   "outputs": [],
   "source": [
    "t2s = pd.date_range(\n",
    "    start='2018-04-22 08:00:00',\n",
    "    end='2018-04-25 00:00:00',\n",
    "    freq='40min')\n",
    "\n",
    "\n",
    "N = t2s.size\n",
    "\n",
    "\n",
    "ctags = np.empty(0)\n",
    "new_t1s = np.empty(0)\n",
    "new_t2s = np.empty(0)\n",
    "f_avg = np.empty(0)\n",
    "c_avg = np.empty(0)\n",
    "for i in range(N-1):\n",
    "    t1=t2s[i]\n",
    "    t2=t2s[i+1]\n",
    "    new_t1s = np.append(new_t1s,t1)\n",
    "    new_t2s = np.append(new_t2s,t2)\n",
    "    \n",
    "#     print(t1,t2)\n",
    "    c,ctag = (convolution(t1,t2,df_total))\n",
    "    c_avg = np.append(c_avg,c)\n",
    "    ctags = np.append(ctags,ctag)\n",
    "    f = (convolution(t1,t2,df_total,True)[0])\n",
    "    f_avg = np.append(f_avg,f)\n",
    "    \n",
    "    \n",
    "\n",
    "d = {'StartTime': new_t1s, 'StopTime': new_t2s, 'Interval': new_t2s - new_t1s,\n",
    "     'FlatAvg': f_avg, 'WeightedAvg': c_avg, 'ctags':ctags}\n",
    "df_const_int_avgs = pd.DataFrame(d)\n",
    "df_const_int_avgs = df_const_int_avgs.set_index('StartTime')\n",
    "df_const_int_avgs['Difference'] = df_const_int_avgs['FlatAvg'] - df_const_int_avgs['WeightedAvg']\n",
    "\n",
    "df_const_int_avgs['StopTime_epoch'] = df_const_int_avgs['StopTime'].astype('int64')//1e9\n",
    "df_const_int_avgs = df_const_int_avgs.reset_index()\n",
    "df_const_int_avgs['StartTime_epoch'] = df_const_int_avgs['StartTime'].astype('int64')//1e9\n",
    "# df_const_int_avgs = df_const_int_avgs.set_index('StartTime_epoch')"
   ]
  },
  {
   "cell_type": "code",
   "execution_count": null,
   "metadata": {},
   "outputs": [],
   "source": [
    "# mpld3.enable_notebook()\n",
    "#plot the ctags\n",
    "# df_const_int_avgs.plot(x='StopTime_epoch', y='ctags',grid=True,figsize=(12,6),kind='scatter')\n",
    "\n",
    "#overlay flat and weighted averages\n",
    "ax = df_const_int_avgs.plot(x='StopTime_epoch', y='FlatAvg',color='blue',grid=True,figsize=(12,6),kind='scatter',alpha=0.5)\n",
    "df_avgs.plot(x='EndTime_epoch',y='WeightedAvg',grid=True,figsize=(12,6),ax=ax,kind='scatter',color='black')\n",
    "df_avgs.plot(x='EndTime_epoch',y='FlatAvg',grid=True,figsize=(12,6),ax=ax,kind='scatter',color='brown')\n",
    "df_const_int_avgs.plot(x='StopTime_epoch', y='WeightedAvg',color='red',grid=True,figsize=(12,6),kind='scatter',ax=ax,alpha=0.5)\n",
    "\n",
    "ax.set_xlabel(\"horizontal label\")\n",
    "ax.set_ylabel(\"vertical label\")\n",
    "plt.show()\n",
    "\n",
    "#plot the difference\n",
    "# df_const_int_avgs.plot(x='StopTime_epoch', y='Difference',grid=True,figsize=(12,6),kind='scatter')\n"
   ]
  },
  {
   "cell_type": "code",
   "execution_count": null,
   "metadata": {},
   "outputs": [],
   "source": []
  },
  {
   "cell_type": "markdown",
   "metadata": {},
   "source": [
    "__Now a resampling test__"
   ]
  },
  {
   "cell_type": "code",
   "execution_count": null,
   "metadata": {},
   "outputs": [],
   "source": [
    "df_const_int_avgs['mult'] = (df_const_int_avgs['WeightedAvg']*df_const_int_avgs['ctags'])\n",
    "df_const_int_avgs['mult_sum'] = df_const_int_avgs['mult'].cumsum()/df_const_int_avgs['ctags'].cumsum()\n",
    "# df_const_int_avgs\n"
   ]
  },
  {
   "cell_type": "code",
   "execution_count": null,
   "metadata": {},
   "outputs": [],
   "source": [
    "#time avg in each interval\n",
    "ax = df_const_int_avgs.plot(x='StopTime_epoch', y='FlatAvg',\n",
    "                            grid=True,figsize=(12,6),kind='scatter',alpha=0.5,color='blue')\n",
    "#muon weighted avg in each interval\n",
    "df_const_int_avgs.plot(x='StopTime_epoch', y='WeightedAvg',\n",
    "                       grid=True,figsize=(12,6),kind='scatter',ax=ax,alpha=0.5,color='red')\n",
    "\n",
    "\n",
    "#accumulated muon weighted avg in each interval\n",
    "df_const_int_avgs.plot(x='StopTime_epoch', y='mult_sum',\n",
    "                       grid=True,figsize=(12,6),kind='scatter',ax=ax,color='green')\n",
    "\n",
    "#also the accumulated muon weighted avg in each interval\n",
    "df_avgs.plot(x='EndTime_epoch',y='WeightedAvg',\n",
    "             grid=True,figsize=(12,6),ax=ax,kind='scatter',color='black')\n",
    "\n",
    "#accumulated time average\n",
    "df_avgs.plot(x='EndTime_epoch',y='FlatAvg',\n",
    "             grid=True,figsize=(12,6),ax=ax,kind='scatter',color='brown')\n",
    "\n",
    "\n",
    "\n",
    "ax.set_xlabel(\"epoch time\")\n",
    "ax.set_ylabel(\"ppm\")\n",
    "plt.show()\n",
    "print(df_const_int_avgs['mult_sum'].tail())\n",
    "\n"
   ]
  },
  {
   "cell_type": "code",
   "execution_count": null,
   "metadata": {},
   "outputs": [],
   "source": [
    "ax = df_const_int_avgs.plot(x='StopTime_epoch', y='Difference',\n",
    "                            grid=True,figsize=(12,6),kind='scatter',alpha=0.5,color='blue')\n",
    "\n",
    "ax.set_xlabel(\"epoch time\")\n",
    "ax.set_ylabel(\"difference (ppm)\")\n",
    "plt.show()\n"
   ]
  },
  {
   "cell_type": "markdown",
   "metadata": {},
   "source": [
    "# 6. A more elegant way to do the same convolution\n",
    "\n",
    "__here we assume df_total, which already has all the field and ctag info, is being used for the call__"
   ]
  },
  {
   "cell_type": "code",
   "execution_count": null,
   "metadata": {},
   "outputs": [],
   "source": [
    "def convolve_better(start_time,stop_time,df):\n",
    "    #format the input\n",
    "    start_time = pd.to_datetime(start_time)\n",
    "    stop_time = pd.to_datetime(stop_time)\n",
    "    #select times within the specified range\n",
    "    mask = ( (df.index >= start_time) & (df.index <= stop_time))\n",
    "    df = df[mask]\n",
    "    \n",
    "    #get a series of *cumulative* ctags\n",
    "    s_ctags = df['ctags'].cumsum()\n",
    "    #get a series of *cumulative* products\n",
    "    s_avg = (df['D']*df['ctags']).cumsum()\n",
    "    #divide the *cumulative* products by the cumulative ctags, to get the cumulative ctag weighted average\n",
    "    s_avg = s_avg/s_ctags\n",
    "    #get the flat average (or the time average) of the field\n",
    "    s_time_avg = df['D'].expanding().mean()\n",
    "    \n",
    "    #combine the series into a df and return it\n",
    "    all_series = [df['ctags'],s_ctags,s_avg,s_time_avg]\n",
    "    df_new = pd.concat(all_series, axis=1)\n",
    "    df_new.columns = ['new_ctags','ctags','muon_weighted_field','time_averaged_field']\n",
    "    return df_new\n",
    "    "
   ]
  },
  {
   "cell_type": "code",
   "execution_count": null,
   "metadata": {},
   "outputs": [],
   "source": []
  },
  {
   "cell_type": "code",
   "execution_count": null,
   "metadata": {},
   "outputs": [],
   "source": [
    "t1 = 'april 10 2018  6:30pm'\n",
    "t2 = \"april 30 2018  6:30pm and 50 seconds\"\n",
    "df_new = convolve_better(t1,t2,df_total)"
   ]
  },
  {
   "cell_type": "code",
   "execution_count": null,
   "metadata": {},
   "outputs": [],
   "source": []
  },
  {
   "cell_type": "code",
   "execution_count": null,
   "metadata": {},
   "outputs": [],
   "source": [
    "# mpld3.disable_notebook()\n",
    "df_new[['muon_weighted_field','time_averaged_field']].fillna(method='ffill').plot(figsize=(12,6))\n",
    "print(df_new)\n"
   ]
  },
  {
   "cell_type": "code",
   "execution_count": null,
   "metadata": {},
   "outputs": [],
   "source": [
    "# mpld3.disable_notebook()\n",
    "(df_new['time_averaged_field'] - df_new['muon_weighted_field']).fillna(method='ffill').plot(figsize=(12,6))"
   ]
  },
  {
   "cell_type": "markdown",
   "metadata": {},
   "source": [
    "## Note that you  can make charts with plotly without slowing down the notebook by:\n",
    "\n",
    "### 1 using fig.show(config={'staticPlot':True}), with the usual plotly.express.scatter"
   ]
  },
  {
   "cell_type": "code",
   "execution_count": null,
   "metadata": {},
   "outputs": [],
   "source": [
    "import plotly.express as px\n",
    "# Make a fig with plotly express \n",
    "fig = px.scatter(df_new.reset_index(), \n",
    "                 x=\"DateTime\", \n",
    "                 y=\"muon_weighted_field\")\n",
    "#note that add_scatter doesn’t have the same “data frame + column names”\n",
    "# API as Plotly Express, so it's called differently. \n",
    "# Note that add_scatter does allow for mixing of dfs, however...\n",
    "# Also note, in the plot below, that add_scatter introduces some inconvient plot formatting defaults\n",
    "fig.add_scatter(x=df_new.index, y=df_new['time_averaged_field'])\n",
    "\n",
    "#The config={'staticPlot':True} option helps keep things running faster\n",
    "fig.show(config={'staticPlot':True})"
   ]
  },
  {
   "cell_type": "markdown",
   "metadata": {},
   "source": [
    "### or 2, using plotly.graph_objects.Scattergl (instead of Scatter), which plots online using WebGL"
   ]
  },
  {
   "cell_type": "code",
   "execution_count": null,
   "metadata": {},
   "outputs": [],
   "source": [
    "import plotly.graph_objects as go\n",
    "data = (df_new['time_averaged_field'] - \n",
    "        df_new['muon_weighted_field']).values\n",
    "fig = go.Figure(data=go.Scattergl(y=data, mode='markers'))\n",
    "fig.show()\n"
   ]
  },
  {
   "cell_type": "markdown",
   "metadata": {},
   "source": [
    "## Note that the above results can easily be resampled with \n",
    "> resample('some value')).mean()\n",
    "\n",
    "or\n",
    "\n",
    "\n",
    "> resample('some value')).sum()\n",
    "\n",
    "etc, depending on the type of quantity\n",
    "\n"
   ]
  },
  {
   "cell_type": "code",
   "execution_count": null,
   "metadata": {},
   "outputs": [],
   "source": [
    "data = ((df_new['time_averaged_field'] -\n",
    "         df_new['muon_weighted_field']).resample('H')).mean().values\n",
    "# data\n",
    "fig = go.Figure(data=go.Scattergl(y=data, mode='markers'))\n",
    "fig.show()"
   ]
  },
  {
   "cell_type": "code",
   "execution_count": null,
   "metadata": {},
   "outputs": [],
   "source": [
    "df_new.head()"
   ]
  },
  {
   "cell_type": "code",
   "execution_count": null,
   "metadata": {},
   "outputs": [],
   "source": []
  },
  {
   "cell_type": "code",
   "execution_count": null,
   "metadata": {},
   "outputs": [],
   "source": [
    "df_new['diff'] =  df_new['time_averaged_field'] - df_new['muon_weighted_field']\n",
    "data1 = df_new['diff'].resample('20min').mean()\n",
    "data1_max = (data1.max())\n",
    "data2 = df_new['new_ctags'].resample('20min').sum()\n",
    "data2 = data1_max*(data2)/(data2.max())\n",
    "data3 = df_new['ctags'].resample('20min').sum()\n",
    "data3 = data1_max*(data3)/(data3.max())"
   ]
  },
  {
   "cell_type": "code",
   "execution_count": null,
   "metadata": {},
   "outputs": [],
   "source": [
    "#just a throw-away line to declare fig\n",
    "fig = px.scatter(df_new)\n",
    "#The two traces\n",
    "fig.add_scatter(x=df_new.index, y=data1,mode='markers', name='field diff' )\n",
    "fig.add_scatter(x=df_new.index, y=data2,mode='markers', name='ctags')\n",
    "fig.add_scatter(x=df_new.index, y=data3, mode='markers', name='total ctags')\n",
    "#plot non-interactivly\n",
    "fig.show(config={'staticPlot':True})"
   ]
  },
  {
   "cell_type": "markdown",
   "metadata": {},
   "source": []
  },
  {
   "cell_type": "code",
   "execution_count": null,
   "metadata": {},
   "outputs": [],
   "source": [
    "fig.update_layout(\n",
    "    title=go.layout.Title(\n",
    "        text=\"\",\n",
    "        x=0\n",
    "    ),\n",
    "    xaxis=go.layout.XAxis(\n",
    "        title=go.layout.xaxis.Title(\n",
    "            text=\"Time\",\n",
    "            font=dict(\n",
    "                family=\"Courier New, monospace\",\n",
    "                size=18,\n",
    "                color=\"#7f7f7f\"\n",
    "            )\n",
    "        )\n",
    "    ),\n",
    "    yaxis=go.layout.YAxis(\n",
    "        title=go.layout.yaxis.Title(\n",
    "            text=\"ppm\",\n",
    "            font=dict(\n",
    "                family=\"Courier New, monospace\",\n",
    "                size=18,\n",
    "                color=\"#7f7f7f\"\n",
    "            )\n",
    "        )\n",
    "    )\n",
    ")\n",
    "fig.show()"
   ]
  },
  {
   "cell_type": "code",
   "execution_count": null,
   "metadata": {},
   "outputs": [],
   "source": []
  },
  {
   "cell_type": "code",
   "execution_count": null,
   "metadata": {},
   "outputs": [],
   "source": []
  },
  {
   "cell_type": "code",
   "execution_count": null,
   "metadata": {},
   "outputs": [],
   "source": []
  },
  {
   "cell_type": "code",
   "execution_count": null,
   "metadata": {},
   "outputs": [],
   "source": []
  }
 ],
 "metadata": {
  "kernelspec": {
   "display_name": "Python 3",
   "language": "python",
   "name": "python3"
  },
  "language_info": {
   "codemirror_mode": {
    "name": "ipython",
    "version": 3
   },
   "file_extension": ".py",
   "mimetype": "text/x-python",
   "name": "python",
   "nbconvert_exporter": "python",
   "pygments_lexer": "ipython3",
   "version": "3.7.3"
  }
 },
 "nbformat": 4,
 "nbformat_minor": 4
}
